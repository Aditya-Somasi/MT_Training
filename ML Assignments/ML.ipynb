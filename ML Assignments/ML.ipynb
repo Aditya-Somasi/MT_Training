{
 "cells": [
  {
   "cell_type": "code",
   "execution_count": 30,
   "id": "fc61298a",
   "metadata": {},
   "outputs": [],
   "source": [
    "# %pip install -r requirements.txt"
   ]
  },
  {
   "cell_type": "code",
   "execution_count": 3,
   "id": "9f3036d9",
   "metadata": {},
   "outputs": [],
   "source": [
    "import pandas as pd\n",
    "import numpy as np\n",
    "from sklearn.model_selection import train_test_split\n",
    "from sklearn.preprocessing import StandardScaler\n",
    "from sklearn.linear_model import LogisticRegression\n",
    "from sklearn.metrics import accuracy_score, precision_score, recall_score, confusion_matrix, r2_score, mean_squared_error\n",
    "from sklearn.feature_selection import SelectKBest, f_classif\n",
    "import seaborn as sns\n",
    "import matplotlib.pyplot as plt"
   ]
  },
  {
   "cell_type": "code",
   "execution_count": 4,
   "id": "008bd6e0",
   "metadata": {},
   "outputs": [],
   "source": [
    "data = pd.read_csv('sampled_tbc_training_data.csv')"
   ]
  },
  {
   "cell_type": "code",
   "execution_count": 5,
   "id": "81a428cc",
   "metadata": {},
   "outputs": [
    {
     "name": "stdout",
     "output_type": "stream",
     "text": [
      "Total duplicate rows: 0\n"
     ]
    }
   ],
   "source": [
    "total_duplicates = data.duplicated().sum()\n",
    "print(f'Total duplicate rows: {total_duplicates}')"
   ]
  },
  {
   "cell_type": "code",
   "execution_count": 6,
   "id": "e5b2783a",
   "metadata": {},
   "outputs": [
    {
     "name": "stdout",
     "output_type": "stream",
     "text": [
      "Exact duplicate rows: 0\n"
     ]
    }
   ],
   "source": [
    "n_rows = len(data)\n",
    "n_exact_duplicates = n_rows - data.drop_duplicates().shape[0]\n",
    "print(\"Exact duplicate rows:\", n_exact_duplicates)"
   ]
  },
  {
   "cell_type": "code",
   "execution_count": 7,
   "id": "5b388d07",
   "metadata": {},
   "outputs": [
    {
     "name": "stdout",
     "output_type": "stream",
     "text": [
      "Rows in duplicate groups (keep=False): 0\n"
     ]
    }
   ],
   "source": [
    "rows_in_dup_groups = data[data.duplicated(keep=False)].shape[0]\n",
    "print(\"Rows in duplicate groups (keep=False):\", rows_in_dup_groups)"
   ]
  },
  {
   "cell_type": "code",
   "execution_count": 8,
   "id": "2b2ed7b7",
   "metadata": {},
   "outputs": [
    {
     "name": "stdout",
     "output_type": "stream",
     "text": [
      "Missing values per column:\n"
     ]
    },
    {
     "data": {
      "application/vnd.microsoft.datawrangler.viewer.v0+json": {
       "columns": [
        {
         "name": "index",
         "rawType": "object",
         "type": "string"
        },
        {
         "name": "Missing Values",
         "rawType": "int64",
         "type": "integer"
        },
        {
         "name": "Missing %",
         "rawType": "float64",
         "type": "float"
        }
       ],
       "ref": "92d1bca0-bec9-413e-ae66-dee539543339",
       "rows": [
        [
         "Customer_ID",
         "0",
         "0.0"
        ],
        [
         "recency",
         "0",
         "0.0"
        ],
        [
         "frequency",
         "0",
         "0.0"
        ],
        [
         "value",
         "0",
         "0.0"
        ],
        [
         "age",
         "0",
         "0.0"
        ],
        [
         "units",
         "0",
         "0.0"
        ],
        [
         "Units_BLT",
         "0",
         "0.0"
        ],
        [
         "Units_FRM",
         "0",
         "0.0"
        ],
        [
         "Units_IND",
         "0",
         "0.0"
        ],
        [
         "Units_MBT",
         "0",
         "0.0"
        ],
        [
         "Units_MRT",
         "0",
         "0.0"
        ],
        [
         "Units_OTR",
         "0",
         "0.0"
        ],
        [
         "Units_PASS",
         "0",
         "0.0"
        ],
        [
         "Units_PSUV",
         "0",
         "0.0"
        ],
        [
         "Units_RLT",
         "0",
         "0.0"
        ],
        [
         "Units_SPC",
         "0",
         "0.0"
        ],
        [
         "Units_TRLR",
         "0",
         "0.0"
        ],
        [
         "Units_-",
         "0",
         "0.0"
        ],
        [
         "Units_Customer-Billed",
         "0",
         "0.0"
        ],
        [
         "Units_National Acct",
         "0",
         "0.0"
        ],
        [
         "Units_ADVANCE",
         "0",
         "0.0"
        ],
        [
         "Units_BFGOODRICH",
         "0",
         "0.0"
        ],
        [
         "Units_BKT",
         "0",
         "0.0"
        ],
        [
         "Units_BRIDGESTONE",
         "0",
         "0.0"
        ],
        [
         "Units_CARLISLE",
         "0",
         "0.0"
        ],
        [
         "Units_CONTINENTAL",
         "0",
         "0.0"
        ],
        [
         "Units_COOPER",
         "0",
         "0.0"
        ],
        [
         "Units_CORDOVAN",
         "0",
         "0.0"
        ],
        [
         "Units_CROSSWIND",
         "0",
         "0.0"
        ],
        [
         "Units_DEESTONE",
         "0",
         "0.0"
        ],
        [
         "Units_DELTA",
         "0",
         "0.0"
        ],
        [
         "Units_DORAL",
         "0",
         "0.0"
        ],
        [
         "Units_DOUBLE COIN",
         "0",
         "0.0"
        ],
        [
         "Units_DURATURN",
         "0",
         "0.0"
        ],
        [
         "Units_DURO",
         "0",
         "0.0"
        ],
        [
         "Units_EL DORADO",
         "0",
         "0.0"
        ],
        [
         "Units_FIRESTONE",
         "0",
         "0.0"
        ],
        [
         "Units_GENERAL",
         "0",
         "0.0"
        ],
        [
         "Units_GLADIATOR",
         "0",
         "0.0"
        ],
        [
         "Units_GOODYEAR",
         "0",
         "0.0"
        ],
        [
         "Units_HANKOOK",
         "0",
         "0.0"
        ],
        [
         "Units_HARVEST KING",
         "0",
         "0.0"
        ],
        [
         "Units_LAUFENN",
         "0",
         "0.0"
        ],
        [
         "Units_MALHOTRA",
         "0",
         "0.0"
        ],
        [
         "Units_MASTERCRAFT",
         "0",
         "0.0"
        ],
        [
         "Units_MAXXIS",
         "0",
         "0.0"
        ],
        [
         "Units_MICHELIN",
         "0",
         "0.0"
        ],
        [
         "Units_MULTI MILE",
         "0",
         "0.0"
        ],
        [
         "Units_NANCO",
         "0",
         "0.0"
        ],
        [
         "Units_NANKANG",
         "0",
         "0.0"
        ]
       ],
       "shape": {
        "columns": 2,
        "rows": 229
       }
      },
      "text/html": [
       "<div>\n",
       "<style scoped>\n",
       "    .dataframe tbody tr th:only-of-type {\n",
       "        vertical-align: middle;\n",
       "    }\n",
       "\n",
       "    .dataframe tbody tr th {\n",
       "        vertical-align: top;\n",
       "    }\n",
       "\n",
       "    .dataframe thead th {\n",
       "        text-align: right;\n",
       "    }\n",
       "</style>\n",
       "<table border=\"1\" class=\"dataframe\">\n",
       "  <thead>\n",
       "    <tr style=\"text-align: right;\">\n",
       "      <th></th>\n",
       "      <th>Missing Values</th>\n",
       "      <th>Missing %</th>\n",
       "    </tr>\n",
       "  </thead>\n",
       "  <tbody>\n",
       "    <tr>\n",
       "      <th>Customer_ID</th>\n",
       "      <td>0</td>\n",
       "      <td>0.0</td>\n",
       "    </tr>\n",
       "    <tr>\n",
       "      <th>recency</th>\n",
       "      <td>0</td>\n",
       "      <td>0.0</td>\n",
       "    </tr>\n",
       "    <tr>\n",
       "      <th>frequency</th>\n",
       "      <td>0</td>\n",
       "      <td>0.0</td>\n",
       "    </tr>\n",
       "    <tr>\n",
       "      <th>value</th>\n",
       "      <td>0</td>\n",
       "      <td>0.0</td>\n",
       "    </tr>\n",
       "    <tr>\n",
       "      <th>age</th>\n",
       "      <td>0</td>\n",
       "      <td>0.0</td>\n",
       "    </tr>\n",
       "    <tr>\n",
       "      <th>...</th>\n",
       "      <td>...</td>\n",
       "      <td>...</td>\n",
       "    </tr>\n",
       "    <tr>\n",
       "      <th>ITADMILLNM</th>\n",
       "      <td>0</td>\n",
       "      <td>0.0</td>\n",
       "    </tr>\n",
       "    <tr>\n",
       "      <th>ITADSEPLUS</th>\n",
       "      <td>0</td>\n",
       "      <td>0.0</td>\n",
       "    </tr>\n",
       "    <tr>\n",
       "      <th>ITBCCORE</th>\n",
       "      <td>0</td>\n",
       "      <td>0.0</td>\n",
       "    </tr>\n",
       "    <tr>\n",
       "      <th>ITOYODRVN</th>\n",
       "      <td>0</td>\n",
       "      <td>0.0</td>\n",
       "    </tr>\n",
       "    <tr>\n",
       "      <th>OREXCEPT</th>\n",
       "      <td>0</td>\n",
       "      <td>0.0</td>\n",
       "    </tr>\n",
       "  </tbody>\n",
       "</table>\n",
       "<p>229 rows × 2 columns</p>\n",
       "</div>"
      ],
      "text/plain": [
       "             Missing Values  Missing %\n",
       "Customer_ID               0        0.0\n",
       "recency                   0        0.0\n",
       "frequency                 0        0.0\n",
       "value                     0        0.0\n",
       "age                       0        0.0\n",
       "...                     ...        ...\n",
       "ITADMILLNM                0        0.0\n",
       "ITADSEPLUS                0        0.0\n",
       "ITBCCORE                  0        0.0\n",
       "ITOYODRVN                 0        0.0\n",
       "OREXCEPT                  0        0.0\n",
       "\n",
       "[229 rows x 2 columns]"
      ]
     },
     "metadata": {},
     "output_type": "display_data"
    }
   ],
   "source": [
    "missing_values = data.isnull().sum()\n",
    "percentage_of_missing = (missing_values / len(data)) * 100\n",
    "missing_summary = pd.DataFrame({\n",
    "    'Missing Values': missing_values,\n",
    "    'Missing %': percentage_of_missing.round(2)\n",
    "}).sort_values(by='Missing %', ascending=False)\n",
    "\n",
    "print(\"Missing values per column:\")\n",
    "display(missing_summary)"
   ]
  },
  {
   "cell_type": "code",
   "execution_count": 9,
   "id": "102ffb8e",
   "metadata": {},
   "outputs": [
    {
     "name": "stdout",
     "output_type": "stream",
     "text": [
      "False\n"
     ]
    }
   ],
   "source": [
    "print(data.isnull().values.any())   # True if any missing value exists"
   ]
  },
  {
   "cell_type": "code",
   "execution_count": 10,
   "id": "2bb76b99",
   "metadata": {},
   "outputs": [
    {
     "data": {
      "application/vnd.microsoft.datawrangler.viewer.v0+json": {
       "columns": [
        {
         "name": "index",
         "rawType": "int64",
         "type": "integer"
        },
        {
         "name": "Customer_ID",
         "rawType": "int64",
         "type": "integer"
        },
        {
         "name": "recency",
         "rawType": "float64",
         "type": "float"
        },
        {
         "name": "frequency",
         "rawType": "float64",
         "type": "float"
        },
        {
         "name": "value",
         "rawType": "float64",
         "type": "float"
        },
        {
         "name": "age",
         "rawType": "float64",
         "type": "float"
        },
        {
         "name": "units",
         "rawType": "float64",
         "type": "float"
        },
        {
         "name": "Units_BLT",
         "rawType": "float64",
         "type": "float"
        },
        {
         "name": "Units_FRM",
         "rawType": "float64",
         "type": "float"
        },
        {
         "name": "Units_IND",
         "rawType": "float64",
         "type": "float"
        },
        {
         "name": "Units_MBT",
         "rawType": "float64",
         "type": "float"
        },
        {
         "name": "Units_MRT",
         "rawType": "float64",
         "type": "float"
        },
        {
         "name": "Units_OTR",
         "rawType": "float64",
         "type": "float"
        },
        {
         "name": "Units_PASS",
         "rawType": "float64",
         "type": "float"
        },
        {
         "name": "Units_PSUV",
         "rawType": "float64",
         "type": "float"
        },
        {
         "name": "Units_RLT",
         "rawType": "float64",
         "type": "float"
        },
        {
         "name": "Units_SPC",
         "rawType": "float64",
         "type": "float"
        },
        {
         "name": "Units_TRLR",
         "rawType": "float64",
         "type": "float"
        },
        {
         "name": "Units_-",
         "rawType": "float64",
         "type": "float"
        },
        {
         "name": "Units_Customer-Billed",
         "rawType": "float64",
         "type": "float"
        },
        {
         "name": "Units_National Acct",
         "rawType": "float64",
         "type": "float"
        },
        {
         "name": "Units_ADVANCE",
         "rawType": "float64",
         "type": "float"
        },
        {
         "name": "Units_BFGOODRICH",
         "rawType": "float64",
         "type": "float"
        },
        {
         "name": "Units_BKT",
         "rawType": "float64",
         "type": "float"
        },
        {
         "name": "Units_BRIDGESTONE",
         "rawType": "float64",
         "type": "float"
        },
        {
         "name": "Units_CARLISLE",
         "rawType": "float64",
         "type": "float"
        },
        {
         "name": "Units_CONTINENTAL",
         "rawType": "float64",
         "type": "float"
        },
        {
         "name": "Units_COOPER",
         "rawType": "float64",
         "type": "float"
        },
        {
         "name": "Units_CORDOVAN",
         "rawType": "float64",
         "type": "float"
        },
        {
         "name": "Units_CROSSWIND",
         "rawType": "float64",
         "type": "float"
        },
        {
         "name": "Units_DEESTONE",
         "rawType": "float64",
         "type": "float"
        },
        {
         "name": "Units_DELTA",
         "rawType": "float64",
         "type": "float"
        },
        {
         "name": "Units_DORAL",
         "rawType": "float64",
         "type": "float"
        },
        {
         "name": "Units_DOUBLE COIN",
         "rawType": "float64",
         "type": "float"
        },
        {
         "name": "Units_DURATURN",
         "rawType": "float64",
         "type": "float"
        },
        {
         "name": "Units_DURO",
         "rawType": "float64",
         "type": "float"
        },
        {
         "name": "Units_EL DORADO",
         "rawType": "float64",
         "type": "float"
        },
        {
         "name": "Units_FIRESTONE",
         "rawType": "float64",
         "type": "float"
        },
        {
         "name": "Units_GENERAL",
         "rawType": "float64",
         "type": "float"
        },
        {
         "name": "Units_GLADIATOR",
         "rawType": "float64",
         "type": "float"
        },
        {
         "name": "Units_GOODYEAR",
         "rawType": "float64",
         "type": "float"
        },
        {
         "name": "Units_HANKOOK",
         "rawType": "float64",
         "type": "float"
        },
        {
         "name": "Units_HARVEST KING",
         "rawType": "float64",
         "type": "float"
        },
        {
         "name": "Units_LAUFENN",
         "rawType": "float64",
         "type": "float"
        },
        {
         "name": "Units_MALHOTRA",
         "rawType": "float64",
         "type": "float"
        },
        {
         "name": "Units_MASTERCRAFT",
         "rawType": "float64",
         "type": "float"
        },
        {
         "name": "Units_MAXXIS",
         "rawType": "float64",
         "type": "float"
        },
        {
         "name": "Units_MICHELIN",
         "rawType": "float64",
         "type": "float"
        },
        {
         "name": "Units_MULTI MILE",
         "rawType": "float64",
         "type": "float"
        },
        {
         "name": "Units_NANCO",
         "rawType": "float64",
         "type": "float"
        },
        {
         "name": "Units_NANKANG",
         "rawType": "float64",
         "type": "float"
        },
        {
         "name": "Units_NATIONAL",
         "rawType": "float64",
         "type": "float"
        },
        {
         "name": "Units_NEXEN",
         "rawType": "float64",
         "type": "float"
        },
        {
         "name": "Units_NITTO",
         "rawType": "float64",
         "type": "float"
        },
        {
         "name": "Units_NORTECH",
         "rawType": "float64",
         "type": "float"
        },
        {
         "name": "Units_PIRELLI",
         "rawType": "float64",
         "type": "float"
        },
        {
         "name": "Units_POWER KING",
         "rawType": "float64",
         "type": "float"
        },
        {
         "name": "Units_PRINX",
         "rawType": "float64",
         "type": "float"
        },
        {
         "name": "Units_SAILUN",
         "rawType": "float64",
         "type": "float"
        },
        {
         "name": "Units_SAMSON",
         "rawType": "float64",
         "type": "float"
        },
        {
         "name": "Units_SAXON",
         "rawType": "float64",
         "type": "float"
        },
        {
         "name": "Units_SOLIDEAL",
         "rawType": "float64",
         "type": "float"
        },
        {
         "name": "Units_SUMITOMO",
         "rawType": "float64",
         "type": "float"
        },
        {
         "name": "Units_TBC NEUTRAL",
         "rawType": "float64",
         "type": "float"
        },
        {
         "name": "Units_TIRE CO",
         "rawType": "float64",
         "type": "float"
        },
        {
         "name": "Units_TOYO",
         "rawType": "float64",
         "type": "float"
        },
        {
         "name": "Units_TRAC GARD",
         "rawType": "float64",
         "type": "float"
        },
        {
         "name": "Units_TRELLEBORG",
         "rawType": "float64",
         "type": "float"
        },
        {
         "name": "Units_UNIROYAL",
         "rawType": "float64",
         "type": "float"
        },
        {
         "name": "Units_VANDERBILT",
         "rawType": "float64",
         "type": "float"
        },
        {
         "name": "Units_VOGUE",
         "rawType": "float64",
         "type": "float"
        },
        {
         "name": "Units_VOMA",
         "rawType": "float64",
         "type": "float"
        },
        {
         "name": "Units_YOKOHAMA",
         "rawType": "float64",
         "type": "float"
        },
        {
         "name": "Units_ZENNA",
         "rawType": "float64",
         "type": "float"
        },
        {
         "name": "Units_NON_STOCK TIRES (XP",
         "rawType": "float64",
         "type": "float"
        },
        {
         "name": "Units_CADDIEMASTER",
         "rawType": "float64",
         "type": "float"
        },
        {
         "name": "Units_MICKEY THOMPSON",
         "rawType": "float64",
         "type": "float"
        },
        {
         "name": "Units_STARFIRE",
         "rawType": "float64",
         "type": "float"
        },
        {
         "name": "Units_KUMHO",
         "rawType": "float64",
         "type": "float"
        },
        {
         "name": "Units_WANDA",
         "rawType": "float64",
         "type": "float"
        },
        {
         "name": "Units_OHTSU",
         "rawType": "float64",
         "type": "float"
        },
        {
         "name": "Units_ARMOUR",
         "rawType": "float64",
         "type": "float"
        },
        {
         "name": "Units_GREENBALL",
         "rawType": "float64",
         "type": "float"
        },
        {
         "name": "Units_LINGLONG",
         "rawType": "float64",
         "type": "float"
        },
        {
         "name": "Units_RIKEN",
         "rawType": "float64",
         "type": "float"
        },
        {
         "name": "Units_COUNTRYWIDE",
         "rawType": "float64",
         "type": "float"
        },
        {
         "name": "Units_KLEBER",
         "rawType": "float64",
         "type": "float"
        },
        {
         "name": "Units_TEMPRA",
         "rawType": "float64",
         "type": "float"
        },
        {
         "name": "Units_DUNLOP",
         "rawType": "float64",
         "type": "float"
        },
        {
         "name": "Units_SIGMA",
         "rawType": "float64",
         "type": "float"
        },
        {
         "name": "Units_SPECIALTY",
         "rawType": "float64",
         "type": "float"
        },
        {
         "name": "Units_DYNACARGO",
         "rawType": "float64",
         "type": "float"
        },
        {
         "name": "Units_BIG O",
         "rawType": "float64",
         "type": "float"
        },
        {
         "name": "Units_DENMAN",
         "rawType": "float64",
         "type": "float"
        },
        {
         "name": "Units_HIFLY",
         "rawType": "float64",
         "type": "float"
        },
        {
         "name": "Units_PROVATO",
         "rawType": "float64",
         "type": "float"
        },
        {
         "name": "Units_ARMADILLO",
         "rawType": "float64",
         "type": "float"
        },
        {
         "name": "Units_FUZION",
         "rawType": "float64",
         "type": "float"
        },
        {
         "name": "Units_EUROGRIP",
         "rawType": "float64",
         "type": "float"
        },
        {
         "name": "sales",
         "rawType": "float64",
         "type": "float"
        },
        {
         "name": "Units_is_win_NO",
         "rawType": "float64",
         "type": "float"
        },
        {
         "name": "Units_is_win_YES",
         "rawType": "float64",
         "type": "float"
        },
        {
         "name": "Units_is_ev_-",
         "rawType": "float64",
         "type": "float"
        },
        {
         "name": "Units_is_ev_NO",
         "rawType": "float64",
         "type": "float"
        },
        {
         "name": "Units_is_ev_YES",
         "rawType": "float64",
         "type": "float"
        },
        {
         "name": "Sales_Amount_BLT",
         "rawType": "float64",
         "type": "float"
        },
        {
         "name": "Sales_Amount_FRM",
         "rawType": "float64",
         "type": "float"
        },
        {
         "name": "Sales_Amount_IND",
         "rawType": "float64",
         "type": "float"
        },
        {
         "name": "Sales_Amount_MBT",
         "rawType": "float64",
         "type": "float"
        },
        {
         "name": "Sales_Amount_MRT",
         "rawType": "float64",
         "type": "float"
        },
        {
         "name": "Sales_Amount_OTR",
         "rawType": "float64",
         "type": "float"
        },
        {
         "name": "Sales_Amount_PASS",
         "rawType": "float64",
         "type": "float"
        },
        {
         "name": "Sales_Amount_PSUV",
         "rawType": "float64",
         "type": "float"
        },
        {
         "name": "Sales_Amount_RLT",
         "rawType": "float64",
         "type": "float"
        },
        {
         "name": "Sales_Amount_SPC",
         "rawType": "float64",
         "type": "float"
        },
        {
         "name": "Sales_Amount_TRLR",
         "rawType": "float64",
         "type": "float"
        },
        {
         "name": "Sales_Amount_-",
         "rawType": "float64",
         "type": "float"
        },
        {
         "name": "Sales_Amount_Customer-Billed",
         "rawType": "float64",
         "type": "float"
        },
        {
         "name": "Sales_Amount_National Acct",
         "rawType": "float64",
         "type": "float"
        },
        {
         "name": "Sales_Amount_ADVANCE",
         "rawType": "float64",
         "type": "float"
        },
        {
         "name": "Sales_Amount_BFGOODRICH",
         "rawType": "float64",
         "type": "float"
        },
        {
         "name": "Sales_Amount_BKT",
         "rawType": "float64",
         "type": "float"
        },
        {
         "name": "Sales_Amount_BRIDGESTONE",
         "rawType": "float64",
         "type": "float"
        },
        {
         "name": "Sales_Amount_CARLISLE",
         "rawType": "float64",
         "type": "float"
        },
        {
         "name": "Sales_Amount_CONTINENTAL",
         "rawType": "float64",
         "type": "float"
        },
        {
         "name": "Sales_Amount_COOPER",
         "rawType": "float64",
         "type": "float"
        },
        {
         "name": "Sales_Amount_CORDOVAN",
         "rawType": "float64",
         "type": "float"
        },
        {
         "name": "Sales_Amount_CROSSWIND",
         "rawType": "float64",
         "type": "float"
        },
        {
         "name": "Sales_Amount_DEESTONE",
         "rawType": "float64",
         "type": "float"
        },
        {
         "name": "Sales_Amount_DELTA",
         "rawType": "float64",
         "type": "float"
        },
        {
         "name": "Sales_Amount_DORAL",
         "rawType": "float64",
         "type": "float"
        },
        {
         "name": "Sales_Amount_DOUBLE COIN",
         "rawType": "float64",
         "type": "float"
        },
        {
         "name": "Sales_Amount_DURATURN",
         "rawType": "float64",
         "type": "float"
        },
        {
         "name": "Sales_Amount_DURO",
         "rawType": "float64",
         "type": "float"
        },
        {
         "name": "Sales_Amount_EL DORADO",
         "rawType": "float64",
         "type": "float"
        },
        {
         "name": "Sales_Amount_FIRESTONE",
         "rawType": "float64",
         "type": "float"
        },
        {
         "name": "Sales_Amount_GENERAL",
         "rawType": "float64",
         "type": "float"
        },
        {
         "name": "Sales_Amount_GLADIATOR",
         "rawType": "float64",
         "type": "float"
        },
        {
         "name": "Sales_Amount_GOODYEAR",
         "rawType": "float64",
         "type": "float"
        },
        {
         "name": "Sales_Amount_HANKOOK",
         "rawType": "float64",
         "type": "float"
        },
        {
         "name": "Sales_Amount_HARVEST KING",
         "rawType": "float64",
         "type": "float"
        },
        {
         "name": "Sales_Amount_LAUFENN",
         "rawType": "float64",
         "type": "float"
        },
        {
         "name": "Sales_Amount_MALHOTRA",
         "rawType": "float64",
         "type": "float"
        },
        {
         "name": "Sales_Amount_MASTERCRAFT",
         "rawType": "float64",
         "type": "float"
        },
        {
         "name": "Sales_Amount_MAXXIS",
         "rawType": "float64",
         "type": "float"
        },
        {
         "name": "Sales_Amount_MICHELIN",
         "rawType": "float64",
         "type": "float"
        },
        {
         "name": "Sales_Amount_MULTI MILE",
         "rawType": "float64",
         "type": "float"
        },
        {
         "name": "Sales_Amount_NANCO",
         "rawType": "float64",
         "type": "float"
        },
        {
         "name": "Sales_Amount_NANKANG",
         "rawType": "float64",
         "type": "float"
        },
        {
         "name": "Sales_Amount_NATIONAL",
         "rawType": "float64",
         "type": "float"
        },
        {
         "name": "Sales_Amount_NEXEN",
         "rawType": "float64",
         "type": "float"
        },
        {
         "name": "Sales_Amount_NITTO",
         "rawType": "float64",
         "type": "float"
        },
        {
         "name": "Sales_Amount_NORTECH",
         "rawType": "float64",
         "type": "float"
        },
        {
         "name": "Sales_Amount_PIRELLI",
         "rawType": "float64",
         "type": "float"
        },
        {
         "name": "Sales_Amount_POWER KING",
         "rawType": "float64",
         "type": "float"
        },
        {
         "name": "Sales_Amount_PRINX",
         "rawType": "float64",
         "type": "float"
        },
        {
         "name": "Sales_Amount_SAILUN",
         "rawType": "float64",
         "type": "float"
        },
        {
         "name": "Sales_Amount_SAMSON",
         "rawType": "float64",
         "type": "float"
        },
        {
         "name": "Sales_Amount_SAXON",
         "rawType": "float64",
         "type": "float"
        },
        {
         "name": "Sales_Amount_SOLIDEAL",
         "rawType": "float64",
         "type": "float"
        },
        {
         "name": "Sales_Amount_SUMITOMO",
         "rawType": "float64",
         "type": "float"
        },
        {
         "name": "Sales_Amount_TBC NEUTRAL",
         "rawType": "float64",
         "type": "float"
        },
        {
         "name": "Sales_Amount_TIRE CO",
         "rawType": "float64",
         "type": "float"
        },
        {
         "name": "Sales_Amount_TOYO",
         "rawType": "float64",
         "type": "float"
        },
        {
         "name": "Sales_Amount_TRAC GARD",
         "rawType": "float64",
         "type": "float"
        },
        {
         "name": "Sales_Amount_TRELLEBORG",
         "rawType": "float64",
         "type": "float"
        },
        {
         "name": "Sales_Amount_UNIROYAL",
         "rawType": "float64",
         "type": "float"
        },
        {
         "name": "Sales_Amount_VANDERBILT",
         "rawType": "float64",
         "type": "float"
        },
        {
         "name": "Sales_Amount_VOGUE",
         "rawType": "float64",
         "type": "float"
        },
        {
         "name": "Sales_Amount_VOMA",
         "rawType": "float64",
         "type": "float"
        },
        {
         "name": "Sales_Amount_YOKOHAMA",
         "rawType": "float64",
         "type": "float"
        },
        {
         "name": "Sales_Amount_ZENNA",
         "rawType": "float64",
         "type": "float"
        },
        {
         "name": "Sales_Amount_NON_STOCK TIRES (XP",
         "rawType": "float64",
         "type": "float"
        },
        {
         "name": "Sales_Amount_CADDIEMASTER",
         "rawType": "float64",
         "type": "float"
        },
        {
         "name": "Sales_Amount_MICKEY THOMPSON",
         "rawType": "float64",
         "type": "float"
        },
        {
         "name": "Sales_Amount_STARFIRE",
         "rawType": "float64",
         "type": "float"
        },
        {
         "name": "Sales_Amount_KUMHO",
         "rawType": "float64",
         "type": "float"
        },
        {
         "name": "Sales_Amount_WANDA",
         "rawType": "float64",
         "type": "float"
        },
        {
         "name": "Sales_Amount_OHTSU",
         "rawType": "float64",
         "type": "float"
        },
        {
         "name": "Sales_Amount_ARMOUR",
         "rawType": "float64",
         "type": "float"
        },
        {
         "name": "Sales_Amount_GREENBALL",
         "rawType": "float64",
         "type": "float"
        },
        {
         "name": "Sales_Amount_LINGLONG",
         "rawType": "float64",
         "type": "float"
        },
        {
         "name": "Sales_Amount_RIKEN",
         "rawType": "float64",
         "type": "float"
        },
        {
         "name": "Sales_Amount_COUNTRYWIDE",
         "rawType": "float64",
         "type": "float"
        },
        {
         "name": "Sales_Amount_KLEBER",
         "rawType": "float64",
         "type": "float"
        },
        {
         "name": "Sales_Amount_TEMPRA",
         "rawType": "float64",
         "type": "float"
        },
        {
         "name": "Sales_Amount_DUNLOP",
         "rawType": "float64",
         "type": "float"
        },
        {
         "name": "Sales_Amount_SIGMA",
         "rawType": "float64",
         "type": "float"
        },
        {
         "name": "Sales_Amount_SPECIALTY",
         "rawType": "float64",
         "type": "float"
        },
        {
         "name": "Sales_Amount_DYNACARGO",
         "rawType": "float64",
         "type": "float"
        },
        {
         "name": "Sales_Amount_BIG O",
         "rawType": "float64",
         "type": "float"
        },
        {
         "name": "Sales_Amount_DENMAN",
         "rawType": "float64",
         "type": "float"
        },
        {
         "name": "Sales_Amount_HIFLY",
         "rawType": "float64",
         "type": "float"
        },
        {
         "name": "Sales_Amount_PROVATO",
         "rawType": "float64",
         "type": "float"
        },
        {
         "name": "Sales_Amount_ARMADILLO",
         "rawType": "float64",
         "type": "float"
        },
        {
         "name": "Sales_Amount_FUZION",
         "rawType": "float64",
         "type": "float"
        },
        {
         "name": "Sales_Amount_EUROGRIP",
         "rawType": "float64",
         "type": "float"
        },
        {
         "name": "Sales_Amount_is_win_NO",
         "rawType": "float64",
         "type": "float"
        },
        {
         "name": "Sales_Amount_is_win_YES",
         "rawType": "float64",
         "type": "float"
        },
        {
         "name": "Sales_Amount_is_ev_-",
         "rawType": "float64",
         "type": "float"
        },
        {
         "name": "Sales_Amount_is_ev_NO",
         "rawType": "float64",
         "type": "float"
        },
        {
         "name": "Sales_Amount_is_ev_YES",
         "rawType": "float64",
         "type": "float"
        },
        {
         "name": "Sales_Amount",
         "rawType": "float64",
         "type": "float"
        },
        {
         "name": "Units",
         "rawType": "float64",
         "type": "float"
        },
        {
         "name": "churn",
         "rawType": "float64",
         "type": "float"
        },
        {
         "name": "Channel_CD",
         "rawType": "int64",
         "type": "integer"
        },
        {
         "name": "Channel_FS",
         "rawType": "int64",
         "type": "integer"
        },
        {
         "name": "Channel_NR",
         "rawType": "int64",
         "type": "integer"
        },
        {
         "name": "Channel_NUC",
         "rawType": "int64",
         "type": "integer"
        },
        {
         "name": "IsProgram",
         "rawType": "int64",
         "type": "integer"
        },
        {
         "name": "NumOfPrograms",
         "rawType": "int64",
         "type": "integer"
        },
        {
         "name": "BO_GROUP",
         "rawType": "int64",
         "type": "integer"
        },
        {
         "name": "CBI_GROUP",
         "rawType": "int64",
         "type": "integer"
        },
        {
         "name": "CDGTREAD",
         "rawType": "int64",
         "type": "integer"
        },
        {
         "name": "CDGVTP",
         "rawType": "int64",
         "type": "integer"
        },
        {
         "name": "ICOOPMED",
         "rawType": "int64",
         "type": "integer"
        },
        {
         "name": "IFLEETDLR",
         "rawType": "int64",
         "type": "integer"
        },
        {
         "name": "IHANKONE",
         "rawType": "int64",
         "type": "integer"
        },
        {
         "name": "IMASTALLI",
         "rawType": "int64",
         "type": "integer"
        },
        {
         "name": "INEXNTLVL",
         "rawType": "int64",
         "type": "integer"
        },
        {
         "name": "INITTOENT",
         "rawType": "int64",
         "type": "integer"
        },
        {
         "name": "INTWMT",
         "rawType": "int64",
         "type": "integer"
        },
        {
         "name": "INTWT3",
         "rawType": "int64",
         "type": "integer"
        },
        {
         "name": "IPIRFSTRK",
         "rawType": "int64",
         "type": "integer"
        },
        {
         "name": "ISIGNPRO",
         "rawType": "int64",
         "type": "integer"
        },
        {
         "name": "ITADMILLNM",
         "rawType": "int64",
         "type": "integer"
        },
        {
         "name": "ITADSEPLUS",
         "rawType": "int64",
         "type": "integer"
        },
        {
         "name": "ITBCCORE",
         "rawType": "int64",
         "type": "integer"
        },
        {
         "name": "ITOYODRVN",
         "rawType": "int64",
         "type": "integer"
        },
        {
         "name": "OREXCEPT",
         "rawType": "int64",
         "type": "integer"
        }
       ],
       "ref": "170406c9-bcb2-4d26-bf72-3ff9fafc427e",
       "rows": [],
       "shape": {
        "columns": 229,
        "rows": 0
       }
      },
      "text/html": [
       "<div>\n",
       "<style scoped>\n",
       "    .dataframe tbody tr th:only-of-type {\n",
       "        vertical-align: middle;\n",
       "    }\n",
       "\n",
       "    .dataframe tbody tr th {\n",
       "        vertical-align: top;\n",
       "    }\n",
       "\n",
       "    .dataframe thead th {\n",
       "        text-align: right;\n",
       "    }\n",
       "</style>\n",
       "<table border=\"1\" class=\"dataframe\">\n",
       "  <thead>\n",
       "    <tr style=\"text-align: right;\">\n",
       "      <th></th>\n",
       "      <th>Customer_ID</th>\n",
       "      <th>recency</th>\n",
       "      <th>frequency</th>\n",
       "      <th>value</th>\n",
       "      <th>age</th>\n",
       "      <th>units</th>\n",
       "      <th>Units_BLT</th>\n",
       "      <th>Units_FRM</th>\n",
       "      <th>Units_IND</th>\n",
       "      <th>Units_MBT</th>\n",
       "      <th>...</th>\n",
       "      <th>INITTOENT</th>\n",
       "      <th>INTWMT</th>\n",
       "      <th>INTWT3</th>\n",
       "      <th>IPIRFSTRK</th>\n",
       "      <th>ISIGNPRO</th>\n",
       "      <th>ITADMILLNM</th>\n",
       "      <th>ITADSEPLUS</th>\n",
       "      <th>ITBCCORE</th>\n",
       "      <th>ITOYODRVN</th>\n",
       "      <th>OREXCEPT</th>\n",
       "    </tr>\n",
       "  </thead>\n",
       "  <tbody>\n",
       "  </tbody>\n",
       "</table>\n",
       "<p>0 rows × 229 columns</p>\n",
       "</div>"
      ],
      "text/plain": [
       "Empty DataFrame\n",
       "Columns: [Customer_ID, recency, frequency, value, age, units, Units_BLT, Units_FRM, Units_IND, Units_MBT, Units_MRT, Units_OTR, Units_PASS, Units_PSUV, Units_RLT, Units_SPC, Units_TRLR, Units_-, Units_Customer-Billed, Units_National Acct, Units_ADVANCE, Units_BFGOODRICH, Units_BKT, Units_BRIDGESTONE, Units_CARLISLE, Units_CONTINENTAL, Units_COOPER, Units_CORDOVAN, Units_CROSSWIND, Units_DEESTONE, Units_DELTA, Units_DORAL, Units_DOUBLE COIN, Units_DURATURN, Units_DURO, Units_EL DORADO, Units_FIRESTONE, Units_GENERAL, Units_GLADIATOR, Units_GOODYEAR, Units_HANKOOK, Units_HARVEST KING, Units_LAUFENN, Units_MALHOTRA, Units_MASTERCRAFT, Units_MAXXIS, Units_MICHELIN, Units_MULTI MILE, Units_NANCO, Units_NANKANG, Units_NATIONAL, Units_NEXEN, Units_NITTO, Units_NORTECH, Units_PIRELLI, Units_POWER KING, Units_PRINX, Units_SAILUN, Units_SAMSON, Units_SAXON, Units_SOLIDEAL, Units_SUMITOMO, Units_TBC NEUTRAL, Units_TIRE CO, Units_TOYO, Units_TRAC GARD, Units_TRELLEBORG, Units_UNIROYAL, Units_VANDERBILT, Units_VOGUE, Units_VOMA, Units_YOKOHAMA, Units_ZENNA, Units_NON_STOCK TIRES (XP, Units_CADDIEMASTER, Units_MICKEY THOMPSON, Units_STARFIRE, Units_KUMHO, Units_WANDA, Units_OHTSU, Units_ARMOUR, Units_GREENBALL, Units_LINGLONG, Units_RIKEN, Units_COUNTRYWIDE, Units_KLEBER, Units_TEMPRA, Units_DUNLOP, Units_SIGMA, Units_SPECIALTY, Units_DYNACARGO, Units_BIG O, Units_DENMAN, Units_HIFLY, Units_PROVATO, Units_ARMADILLO, Units_FUZION, Units_EUROGRIP, sales, Units_is_win_NO, ...]\n",
       "Index: []\n",
       "\n",
       "[0 rows x 229 columns]"
      ]
     },
     "execution_count": 10,
     "metadata": {},
     "output_type": "execute_result"
    }
   ],
   "source": [
    "data[data.isnull().any(axis=1)].head(10)   # Show first 10 rows that contain at least one missing value"
   ]
  },
  {
   "cell_type": "code",
   "execution_count": 26,
   "id": "e1213fcf",
   "metadata": {},
   "outputs": [
    {
     "data": {
      "application/vnd.microsoft.datawrangler.viewer.v0+json": {
       "columns": [
        {
         "name": "index",
         "rawType": "object",
         "type": "string"
        },
        {
         "name": "Data Type",
         "rawType": "object",
         "type": "unknown"
        }
       ],
       "ref": "99167c55-8data9-4fce-be59-6bf614928683",
       "rows": [
        [
         "Customer_ID",
         "int64"
        ],
        [
         "recency",
         "float64"
        ],
        [
         "frequency",
         "float64"
        ],
        [
         "value",
         "float64"
        ],
        [
         "age",
         "float64"
        ],
        [
         "units",
         "float64"
        ],
        [
         "Units_BLT",
         "float64"
        ],
        [
         "Units_FRM",
         "float64"
        ],
        [
         "Units_IND",
         "float64"
        ],
        [
         "Units_MBT",
         "float64"
        ],
        [
         "Units_MRT",
         "float64"
        ],
        [
         "Units_OTR",
         "float64"
        ],
        [
         "Units_PASS",
         "float64"
        ],
        [
         "Units_PSUV",
         "float64"
        ],
        [
         "Units_RLT",
         "float64"
        ],
        [
         "Units_SPC",
         "float64"
        ],
        [
         "Units_TRLR",
         "float64"
        ],
        [
         "Units_-",
         "float64"
        ],
        [
         "Units_Customer-Billed",
         "float64"
        ],
        [
         "Units_National Acct",
         "float64"
        ],
        [
         "Units_ADVANCE",
         "float64"
        ],
        [
         "Units_BFGOODRICH",
         "float64"
        ],
        [
         "Units_BKT",
         "float64"
        ],
        [
         "Units_BRIDGESTONE",
         "float64"
        ],
        [
         "Units_CARLISLE",
         "float64"
        ],
        [
         "Units_CONTINENTAL",
         "float64"
        ],
        [
         "Units_COOPER",
         "float64"
        ],
        [
         "Units_CORDOVAN",
         "float64"
        ],
        [
         "Units_CROSSWIND",
         "float64"
        ],
        [
         "Units_DEESTONE",
         "float64"
        ],
        [
         "Units_DELTA",
         "float64"
        ],
        [
         "Units_DORAL",
         "float64"
        ],
        [
         "Units_DOUBLE COIN",
         "float64"
        ],
        [
         "Units_DURATURN",
         "float64"
        ],
        [
         "Units_DURO",
         "float64"
        ],
        [
         "Units_EL DORADO",
         "float64"
        ],
        [
         "Units_FIRESTONE",
         "float64"
        ],
        [
         "Units_GENERAL",
         "float64"
        ],
        [
         "Units_GLADIATOR",
         "float64"
        ],
        [
         "Units_GOODYEAR",
         "float64"
        ],
        [
         "Units_HANKOOK",
         "float64"
        ],
        [
         "Units_HARVEST KING",
         "float64"
        ],
        [
         "Units_LAUFENN",
         "float64"
        ],
        [
         "Units_MALHOTRA",
         "float64"
        ],
        [
         "Units_MASTERCRAFT",
         "float64"
        ],
        [
         "Units_MAXXIS",
         "float64"
        ],
        [
         "Units_MICHELIN",
         "float64"
        ],
        [
         "Units_MULTI MILE",
         "float64"
        ],
        [
         "Units_NANCO",
         "float64"
        ],
        [
         "Units_NANKANG",
         "float64"
        ]
       ],
       "shape": {
        "columns": 1,
        "rows": 229
       }
      },
      "text/html": [
       "<div>\n",
       "<style scoped>\n",
       "    .dataframe tbody tr th:only-of-type {\n",
       "        vertical-align: middle;\n",
       "    }\n",
       "\n",
       "    .dataframe tbody tr th {\n",
       "        vertical-align: top;\n",
       "    }\n",
       "\n",
       "    .dataframe thead th {\n",
       "        text-align: right;\n",
       "    }\n",
       "</style>\n",
       "<table border=\"1\" class=\"dataframe\">\n",
       "  <thead>\n",
       "    <tr style=\"text-align: right;\">\n",
       "      <th></th>\n",
       "      <th>Data Type</th>\n",
       "    </tr>\n",
       "  </thead>\n",
       "  <tbody>\n",
       "    <tr>\n",
       "      <th>Customer_ID</th>\n",
       "      <td>int64</td>\n",
       "    </tr>\n",
       "    <tr>\n",
       "      <th>recency</th>\n",
       "      <td>float64</td>\n",
       "    </tr>\n",
       "    <tr>\n",
       "      <th>frequency</th>\n",
       "      <td>float64</td>\n",
       "    </tr>\n",
       "    <tr>\n",
       "      <th>value</th>\n",
       "      <td>float64</td>\n",
       "    </tr>\n",
       "    <tr>\n",
       "      <th>age</th>\n",
       "      <td>float64</td>\n",
       "    </tr>\n",
       "    <tr>\n",
       "      <th>...</th>\n",
       "      <td>...</td>\n",
       "    </tr>\n",
       "    <tr>\n",
       "      <th>ITADMILLNM</th>\n",
       "      <td>int64</td>\n",
       "    </tr>\n",
       "    <tr>\n",
       "      <th>ITADSEPLUS</th>\n",
       "      <td>int64</td>\n",
       "    </tr>\n",
       "    <tr>\n",
       "      <th>ITBCCORE</th>\n",
       "      <td>int64</td>\n",
       "    </tr>\n",
       "    <tr>\n",
       "      <th>ITOYODRVN</th>\n",
       "      <td>int64</td>\n",
       "    </tr>\n",
       "    <tr>\n",
       "      <th>OREXCEPT</th>\n",
       "      <td>int64</td>\n",
       "    </tr>\n",
       "  </tbody>\n",
       "</table>\n",
       "<p>229 rows × 1 columns</p>\n",
       "</div>"
      ],
      "text/plain": [
       "            Data Type\n",
       "Customer_ID     int64\n",
       "recency       float64\n",
       "frequency     float64\n",
       "value         float64\n",
       "age           float64\n",
       "...               ...\n",
       "ITADMILLNM      int64\n",
       "ITADSEPLUS      int64\n",
       "ITBCCORE        int64\n",
       "ITOYODRVN       int64\n",
       "OREXCEPT        int64\n",
       "\n",
       "[229 rows x 1 columns]"
      ]
     },
     "metadata": {},
     "output_type": "display_data"
    }
   ],
   "source": [
    "dtype_summary = pd.DataFrame(data.dtypes, columns=['Data Type'])\n",
    "display(dtype_summary)"
   ]
  },
  {
   "cell_type": "code",
   "execution_count": 12,
   "id": "ce52b62d",
   "metadata": {},
   "outputs": [
    {
     "data": {
      "application/vnd.microsoft.datawrangler.viewer.v0+json": {
       "columns": [
        {
         "name": "index",
         "rawType": "object",
         "type": "unknown"
        },
        {
         "name": "count",
         "rawType": "int64",
         "type": "integer"
        }
       ],
       "ref": "b0da656f-9216-480c-982b-a9faf37ffbe8",
       "rows": [
        [
         "float64",
         "203"
        ],
        [
         "int64",
         "26"
        ]
       ],
       "shape": {
        "columns": 1,
        "rows": 2
       }
      },
      "text/plain": [
       "float64    203\n",
       "int64       26\n",
       "Name: count, dtype: int64"
      ]
     },
     "execution_count": 12,
     "metadata": {},
     "output_type": "execute_result"
    }
   ],
   "source": [
    "data.dtypes.value_counts()"
   ]
  },
  {
   "cell_type": "code",
   "execution_count": 13,
   "id": "72b7e7dd",
   "metadata": {},
   "outputs": [
    {
     "name": "stdout",
     "output_type": "stream",
     "text": [
      "<class 'pandas.core.frame.DataFrame'>\n",
      "RangeIndex: 2000 entries, 0 to 1999\n",
      "Columns: 229 entries, Customer_ID to OREXCEPT\n",
      "dtypes: float64(203), int64(26)\n",
      "memory usage: 3.5 MB\n"
     ]
    }
   ],
   "source": [
    "data.info()"
   ]
  },
  {
   "cell_type": "code",
   "execution_count": 14,
   "id": "bbec72b9",
   "metadata": {},
   "outputs": [
    {
     "data": {
      "text/plain": [
       "['Customer_ID',\n",
       " 'recency',\n",
       " 'frequency',\n",
       " 'value',\n",
       " 'age',\n",
       " 'units',\n",
       " 'Units_BLT',\n",
       " 'Units_FRM',\n",
       " 'Units_IND',\n",
       " 'Units_MBT',\n",
       " 'Units_MRT',\n",
       " 'Units_OTR',\n",
       " 'Units_PASS',\n",
       " 'Units_PSUV',\n",
       " 'Units_RLT',\n",
       " 'Units_SPC',\n",
       " 'Units_TRLR',\n",
       " 'Units_-',\n",
       " 'Units_Customer-Billed',\n",
       " 'Units_National Acct',\n",
       " 'Units_ADVANCE',\n",
       " 'Units_BFGOODRICH',\n",
       " 'Units_BKT',\n",
       " 'Units_BRIDGESTONE',\n",
       " 'Units_CARLISLE',\n",
       " 'Units_CONTINENTAL',\n",
       " 'Units_COOPER',\n",
       " 'Units_CORDOVAN',\n",
       " 'Units_CROSSWIND',\n",
       " 'Units_DEESTONE',\n",
       " 'Units_DELTA',\n",
       " 'Units_DORAL',\n",
       " 'Units_DOUBLE COIN',\n",
       " 'Units_DURATURN',\n",
       " 'Units_DURO',\n",
       " 'Units_EL DORADO',\n",
       " 'Units_FIRESTONE',\n",
       " 'Units_GENERAL',\n",
       " 'Units_GLADIATOR',\n",
       " 'Units_GOODYEAR',\n",
       " 'Units_HANKOOK',\n",
       " 'Units_HARVEST KING',\n",
       " 'Units_LAUFENN',\n",
       " 'Units_MALHOTRA',\n",
       " 'Units_MASTERCRAFT',\n",
       " 'Units_MAXXIS',\n",
       " 'Units_MICHELIN',\n",
       " 'Units_MULTI MILE',\n",
       " 'Units_NANCO',\n",
       " 'Units_NANKANG',\n",
       " 'Units_NATIONAL',\n",
       " 'Units_NEXEN',\n",
       " 'Units_NITTO',\n",
       " 'Units_NORTECH',\n",
       " 'Units_PIRELLI',\n",
       " 'Units_POWER KING',\n",
       " 'Units_PRINX',\n",
       " 'Units_SAILUN',\n",
       " 'Units_SAMSON',\n",
       " 'Units_SAXON',\n",
       " 'Units_SOLIDEAL',\n",
       " 'Units_SUMITOMO',\n",
       " 'Units_TBC NEUTRAL',\n",
       " 'Units_TIRE CO',\n",
       " 'Units_TOYO',\n",
       " 'Units_TRAC GARD',\n",
       " 'Units_TRELLEBORG',\n",
       " 'Units_UNIROYAL',\n",
       " 'Units_VANDERBILT',\n",
       " 'Units_VOGUE',\n",
       " 'Units_VOMA',\n",
       " 'Units_YOKOHAMA',\n",
       " 'Units_ZENNA',\n",
       " 'Units_NON_STOCK TIRES (XP',\n",
       " 'Units_CADDIEMASTER',\n",
       " 'Units_MICKEY THOMPSON',\n",
       " 'Units_STARFIRE',\n",
       " 'Units_KUMHO',\n",
       " 'Units_WANDA',\n",
       " 'Units_OHTSU',\n",
       " 'Units_ARMOUR',\n",
       " 'Units_GREENBALL',\n",
       " 'Units_LINGLONG',\n",
       " 'Units_RIKEN',\n",
       " 'Units_COUNTRYWIDE',\n",
       " 'Units_KLEBER',\n",
       " 'Units_TEMPRA',\n",
       " 'Units_DUNLOP',\n",
       " 'Units_SIGMA',\n",
       " 'Units_SPECIALTY',\n",
       " 'Units_DYNACARGO',\n",
       " 'Units_BIG O',\n",
       " 'Units_DENMAN',\n",
       " 'Units_HIFLY',\n",
       " 'Units_PROVATO',\n",
       " 'Units_ARMADILLO',\n",
       " 'Units_FUZION',\n",
       " 'Units_EUROGRIP',\n",
       " 'sales',\n",
       " 'Units_is_win_NO',\n",
       " 'Units_is_win_YES',\n",
       " 'Units_is_ev_-',\n",
       " 'Units_is_ev_NO',\n",
       " 'Units_is_ev_YES',\n",
       " 'Sales_Amount_BLT',\n",
       " 'Sales_Amount_FRM',\n",
       " 'Sales_Amount_IND',\n",
       " 'Sales_Amount_MBT',\n",
       " 'Sales_Amount_MRT',\n",
       " 'Sales_Amount_OTR',\n",
       " 'Sales_Amount_PASS',\n",
       " 'Sales_Amount_PSUV',\n",
       " 'Sales_Amount_RLT',\n",
       " 'Sales_Amount_SPC',\n",
       " 'Sales_Amount_TRLR',\n",
       " 'Sales_Amount_-',\n",
       " 'Sales_Amount_Customer-Billed',\n",
       " 'Sales_Amount_National Acct',\n",
       " 'Sales_Amount_ADVANCE',\n",
       " 'Sales_Amount_BFGOODRICH',\n",
       " 'Sales_Amount_BKT',\n",
       " 'Sales_Amount_BRIDGESTONE',\n",
       " 'Sales_Amount_CARLISLE',\n",
       " 'Sales_Amount_CONTINENTAL',\n",
       " 'Sales_Amount_COOPER',\n",
       " 'Sales_Amount_CORDOVAN',\n",
       " 'Sales_Amount_CROSSWIND',\n",
       " 'Sales_Amount_DEESTONE',\n",
       " 'Sales_Amount_DELTA',\n",
       " 'Sales_Amount_DORAL',\n",
       " 'Sales_Amount_DOUBLE COIN',\n",
       " 'Sales_Amount_DURATURN',\n",
       " 'Sales_Amount_DURO',\n",
       " 'Sales_Amount_EL DORADO',\n",
       " 'Sales_Amount_FIRESTONE',\n",
       " 'Sales_Amount_GENERAL',\n",
       " 'Sales_Amount_GLADIATOR',\n",
       " 'Sales_Amount_GOODYEAR',\n",
       " 'Sales_Amount_HANKOOK',\n",
       " 'Sales_Amount_HARVEST KING',\n",
       " 'Sales_Amount_LAUFENN',\n",
       " 'Sales_Amount_MALHOTRA',\n",
       " 'Sales_Amount_MASTERCRAFT',\n",
       " 'Sales_Amount_MAXXIS',\n",
       " 'Sales_Amount_MICHELIN',\n",
       " 'Sales_Amount_MULTI MILE',\n",
       " 'Sales_Amount_NANCO',\n",
       " 'Sales_Amount_NANKANG',\n",
       " 'Sales_Amount_NATIONAL',\n",
       " 'Sales_Amount_NEXEN',\n",
       " 'Sales_Amount_NITTO',\n",
       " 'Sales_Amount_NORTECH',\n",
       " 'Sales_Amount_PIRELLI',\n",
       " 'Sales_Amount_POWER KING',\n",
       " 'Sales_Amount_PRINX',\n",
       " 'Sales_Amount_SAILUN',\n",
       " 'Sales_Amount_SAMSON',\n",
       " 'Sales_Amount_SAXON',\n",
       " 'Sales_Amount_SOLIDEAL',\n",
       " 'Sales_Amount_SUMITOMO',\n",
       " 'Sales_Amount_TBC NEUTRAL',\n",
       " 'Sales_Amount_TIRE CO',\n",
       " 'Sales_Amount_TOYO',\n",
       " 'Sales_Amount_TRAC GARD',\n",
       " 'Sales_Amount_TRELLEBORG',\n",
       " 'Sales_Amount_UNIROYAL',\n",
       " 'Sales_Amount_VANDERBILT',\n",
       " 'Sales_Amount_VOGUE',\n",
       " 'Sales_Amount_VOMA',\n",
       " 'Sales_Amount_YOKOHAMA',\n",
       " 'Sales_Amount_ZENNA',\n",
       " 'Sales_Amount_NON_STOCK TIRES (XP',\n",
       " 'Sales_Amount_CADDIEMASTER',\n",
       " 'Sales_Amount_MICKEY THOMPSON',\n",
       " 'Sales_Amount_STARFIRE',\n",
       " 'Sales_Amount_KUMHO',\n",
       " 'Sales_Amount_WANDA',\n",
       " 'Sales_Amount_OHTSU',\n",
       " 'Sales_Amount_ARMOUR',\n",
       " 'Sales_Amount_GREENBALL',\n",
       " 'Sales_Amount_LINGLONG',\n",
       " 'Sales_Amount_RIKEN',\n",
       " 'Sales_Amount_COUNTRYWIDE',\n",
       " 'Sales_Amount_KLEBER',\n",
       " 'Sales_Amount_TEMPRA',\n",
       " 'Sales_Amount_DUNLOP',\n",
       " 'Sales_Amount_SIGMA',\n",
       " 'Sales_Amount_SPECIALTY',\n",
       " 'Sales_Amount_DYNACARGO',\n",
       " 'Sales_Amount_BIG O',\n",
       " 'Sales_Amount_DENMAN',\n",
       " 'Sales_Amount_HIFLY',\n",
       " 'Sales_Amount_PROVATO',\n",
       " 'Sales_Amount_ARMADILLO',\n",
       " 'Sales_Amount_FUZION',\n",
       " 'Sales_Amount_EUROGRIP',\n",
       " 'Sales_Amount_is_win_NO',\n",
       " 'Sales_Amount_is_win_YES',\n",
       " 'Sales_Amount_is_ev_-',\n",
       " 'Sales_Amount_is_ev_NO',\n",
       " 'Sales_Amount_is_ev_YES',\n",
       " 'Sales_Amount',\n",
       " 'Units',\n",
       " 'churn',\n",
       " 'Channel_CD',\n",
       " 'Channel_FS',\n",
       " 'Channel_NR',\n",
       " 'Channel_NUC',\n",
       " 'IsProgram',\n",
       " 'NumOfPrograms',\n",
       " 'BO_GROUP',\n",
       " 'CBI_GROUP',\n",
       " 'CDGTREAD',\n",
       " 'CDGVTP',\n",
       " 'ICOOPMED',\n",
       " 'IFLEETDLR',\n",
       " 'IHANKONE',\n",
       " 'IMASTALLI',\n",
       " 'INEXNTLVL',\n",
       " 'INITTOENT',\n",
       " 'INTWMT',\n",
       " 'INTWT3',\n",
       " 'IPIRFSTRK',\n",
       " 'ISIGNPRO',\n",
       " 'ITADMILLNM',\n",
       " 'ITADSEPLUS',\n",
       " 'ITBCCORE',\n",
       " 'ITOYODRVN',\n",
       " 'OREXCEPT']"
      ]
     },
     "execution_count": 14,
     "metadata": {},
     "output_type": "execute_result"
    }
   ],
   "source": [
    "data.columns.tolist()"
   ]
  },
  {
   "cell_type": "code",
   "execution_count": 15,
   "id": "18d20701",
   "metadata": {},
   "outputs": [
    {
     "name": "stdout",
     "output_type": "stream",
     "text": [
      "Index(['Customer_ID', 'recency', 'frequency', 'value', 'age', 'units',\n",
      "       'Units_BLT', 'Units_FRM', 'Units_IND', 'Units_MBT', 'Units_MRT',\n",
      "       'Units_OTR', 'Units_PASS', 'Units_PSUV', 'Units_RLT', 'Units_SPC',\n",
      "       'Units_TRLR', 'Units_-', 'Units_Customer-Billed',\n",
      "       'Units_National Acct'],\n",
      "      dtype='object')\n",
      "Index(['NumOfPrograms', 'BO_GROUP', 'CBI_GROUP', 'CDGTREAD', 'CDGVTP',\n",
      "       'ICOOPMED', 'IFLEETDLR', 'IHANKONE', 'IMASTALLI', 'INEXNTLVL',\n",
      "       'INITTOENT', 'INTWMT', 'INTWT3', 'IPIRFSTRK', 'ISIGNPRO', 'ITADMILLNM',\n",
      "       'ITADSEPLUS', 'ITBCCORE', 'ITOYODRVN', 'OREXCEPT'],\n",
      "      dtype='object')\n"
     ]
    }
   ],
   "source": [
    "print(data.columns[:20])\n",
    "print(data.columns[-20:])"
   ]
  },
  {
   "cell_type": "code",
   "execution_count": 16,
   "id": "c7c85b74",
   "metadata": {},
   "outputs": [
    {
     "data": {
      "application/vnd.microsoft.datawrangler.viewer.v0+json": {
       "columns": [
        {
         "name": "index",
         "rawType": "object",
         "type": "string"
        },
        {
         "name": "Customer_ID",
         "rawType": "float64",
         "type": "float"
        },
        {
         "name": "recency",
         "rawType": "float64",
         "type": "float"
        },
        {
         "name": "frequency",
         "rawType": "float64",
         "type": "float"
        },
        {
         "name": "value",
         "rawType": "float64",
         "type": "float"
        },
        {
         "name": "age",
         "rawType": "float64",
         "type": "float"
        },
        {
         "name": "units",
         "rawType": "float64",
         "type": "float"
        },
        {
         "name": "Units_BLT",
         "rawType": "float64",
         "type": "float"
        },
        {
         "name": "Units_FRM",
         "rawType": "float64",
         "type": "float"
        },
        {
         "name": "Units_IND",
         "rawType": "float64",
         "type": "float"
        },
        {
         "name": "Units_MBT",
         "rawType": "float64",
         "type": "float"
        },
        {
         "name": "Units_MRT",
         "rawType": "float64",
         "type": "float"
        },
        {
         "name": "Units_OTR",
         "rawType": "float64",
         "type": "float"
        },
        {
         "name": "Units_PASS",
         "rawType": "float64",
         "type": "float"
        },
        {
         "name": "Units_PSUV",
         "rawType": "float64",
         "type": "float"
        },
        {
         "name": "Units_RLT",
         "rawType": "float64",
         "type": "float"
        },
        {
         "name": "Units_SPC",
         "rawType": "float64",
         "type": "float"
        },
        {
         "name": "Units_TRLR",
         "rawType": "float64",
         "type": "float"
        },
        {
         "name": "Units_-",
         "rawType": "float64",
         "type": "float"
        },
        {
         "name": "Units_Customer-Billed",
         "rawType": "float64",
         "type": "float"
        },
        {
         "name": "Units_National Acct",
         "rawType": "float64",
         "type": "float"
        },
        {
         "name": "Units_ADVANCE",
         "rawType": "float64",
         "type": "float"
        },
        {
         "name": "Units_BFGOODRICH",
         "rawType": "float64",
         "type": "float"
        },
        {
         "name": "Units_BKT",
         "rawType": "float64",
         "type": "float"
        },
        {
         "name": "Units_BRIDGESTONE",
         "rawType": "float64",
         "type": "float"
        },
        {
         "name": "Units_CARLISLE",
         "rawType": "float64",
         "type": "float"
        },
        {
         "name": "Units_CONTINENTAL",
         "rawType": "float64",
         "type": "float"
        },
        {
         "name": "Units_COOPER",
         "rawType": "float64",
         "type": "float"
        },
        {
         "name": "Units_CORDOVAN",
         "rawType": "float64",
         "type": "float"
        },
        {
         "name": "Units_CROSSWIND",
         "rawType": "float64",
         "type": "float"
        },
        {
         "name": "Units_DEESTONE",
         "rawType": "float64",
         "type": "float"
        },
        {
         "name": "Units_DELTA",
         "rawType": "float64",
         "type": "float"
        },
        {
         "name": "Units_DORAL",
         "rawType": "float64",
         "type": "float"
        },
        {
         "name": "Units_DOUBLE COIN",
         "rawType": "float64",
         "type": "float"
        },
        {
         "name": "Units_DURATURN",
         "rawType": "float64",
         "type": "float"
        },
        {
         "name": "Units_DURO",
         "rawType": "float64",
         "type": "float"
        },
        {
         "name": "Units_EL DORADO",
         "rawType": "float64",
         "type": "float"
        },
        {
         "name": "Units_FIRESTONE",
         "rawType": "float64",
         "type": "float"
        },
        {
         "name": "Units_GENERAL",
         "rawType": "float64",
         "type": "float"
        },
        {
         "name": "Units_GLADIATOR",
         "rawType": "float64",
         "type": "float"
        },
        {
         "name": "Units_GOODYEAR",
         "rawType": "float64",
         "type": "float"
        },
        {
         "name": "Units_HANKOOK",
         "rawType": "float64",
         "type": "float"
        },
        {
         "name": "Units_HARVEST KING",
         "rawType": "float64",
         "type": "float"
        },
        {
         "name": "Units_LAUFENN",
         "rawType": "float64",
         "type": "float"
        },
        {
         "name": "Units_MALHOTRA",
         "rawType": "float64",
         "type": "float"
        },
        {
         "name": "Units_MASTERCRAFT",
         "rawType": "float64",
         "type": "float"
        },
        {
         "name": "Units_MAXXIS",
         "rawType": "float64",
         "type": "float"
        },
        {
         "name": "Units_MICHELIN",
         "rawType": "float64",
         "type": "float"
        },
        {
         "name": "Units_MULTI MILE",
         "rawType": "float64",
         "type": "float"
        },
        {
         "name": "Units_NANCO",
         "rawType": "float64",
         "type": "float"
        },
        {
         "name": "Units_NANKANG",
         "rawType": "float64",
         "type": "float"
        },
        {
         "name": "Units_NATIONAL",
         "rawType": "float64",
         "type": "float"
        },
        {
         "name": "Units_NEXEN",
         "rawType": "float64",
         "type": "float"
        },
        {
         "name": "Units_NITTO",
         "rawType": "float64",
         "type": "float"
        },
        {
         "name": "Units_NORTECH",
         "rawType": "float64",
         "type": "float"
        },
        {
         "name": "Units_PIRELLI",
         "rawType": "float64",
         "type": "float"
        },
        {
         "name": "Units_POWER KING",
         "rawType": "float64",
         "type": "float"
        },
        {
         "name": "Units_PRINX",
         "rawType": "float64",
         "type": "float"
        },
        {
         "name": "Units_SAILUN",
         "rawType": "float64",
         "type": "float"
        },
        {
         "name": "Units_SAMSON",
         "rawType": "float64",
         "type": "float"
        },
        {
         "name": "Units_SAXON",
         "rawType": "float64",
         "type": "float"
        },
        {
         "name": "Units_SOLIDEAL",
         "rawType": "float64",
         "type": "float"
        },
        {
         "name": "Units_SUMITOMO",
         "rawType": "float64",
         "type": "float"
        },
        {
         "name": "Units_TBC NEUTRAL",
         "rawType": "float64",
         "type": "float"
        },
        {
         "name": "Units_TIRE CO",
         "rawType": "float64",
         "type": "float"
        },
        {
         "name": "Units_TOYO",
         "rawType": "float64",
         "type": "float"
        },
        {
         "name": "Units_TRAC GARD",
         "rawType": "float64",
         "type": "float"
        },
        {
         "name": "Units_TRELLEBORG",
         "rawType": "float64",
         "type": "float"
        },
        {
         "name": "Units_UNIROYAL",
         "rawType": "float64",
         "type": "float"
        },
        {
         "name": "Units_VANDERBILT",
         "rawType": "float64",
         "type": "float"
        },
        {
         "name": "Units_VOGUE",
         "rawType": "float64",
         "type": "float"
        },
        {
         "name": "Units_VOMA",
         "rawType": "float64",
         "type": "float"
        },
        {
         "name": "Units_YOKOHAMA",
         "rawType": "float64",
         "type": "float"
        },
        {
         "name": "Units_ZENNA",
         "rawType": "float64",
         "type": "float"
        },
        {
         "name": "Units_NON_STOCK TIRES (XP",
         "rawType": "float64",
         "type": "float"
        },
        {
         "name": "Units_CADDIEMASTER",
         "rawType": "float64",
         "type": "float"
        },
        {
         "name": "Units_MICKEY THOMPSON",
         "rawType": "float64",
         "type": "float"
        },
        {
         "name": "Units_STARFIRE",
         "rawType": "float64",
         "type": "float"
        },
        {
         "name": "Units_KUMHO",
         "rawType": "float64",
         "type": "float"
        },
        {
         "name": "Units_WANDA",
         "rawType": "float64",
         "type": "float"
        },
        {
         "name": "Units_OHTSU",
         "rawType": "float64",
         "type": "float"
        },
        {
         "name": "Units_ARMOUR",
         "rawType": "float64",
         "type": "float"
        },
        {
         "name": "Units_GREENBALL",
         "rawType": "float64",
         "type": "float"
        },
        {
         "name": "Units_LINGLONG",
         "rawType": "float64",
         "type": "float"
        },
        {
         "name": "Units_RIKEN",
         "rawType": "float64",
         "type": "float"
        },
        {
         "name": "Units_COUNTRYWIDE",
         "rawType": "float64",
         "type": "float"
        },
        {
         "name": "Units_KLEBER",
         "rawType": "float64",
         "type": "float"
        },
        {
         "name": "Units_TEMPRA",
         "rawType": "float64",
         "type": "float"
        },
        {
         "name": "Units_DUNLOP",
         "rawType": "float64",
         "type": "float"
        },
        {
         "name": "Units_SIGMA",
         "rawType": "float64",
         "type": "float"
        },
        {
         "name": "Units_SPECIALTY",
         "rawType": "float64",
         "type": "float"
        },
        {
         "name": "Units_DYNACARGO",
         "rawType": "float64",
         "type": "float"
        },
        {
         "name": "Units_BIG O",
         "rawType": "float64",
         "type": "float"
        },
        {
         "name": "Units_DENMAN",
         "rawType": "float64",
         "type": "float"
        },
        {
         "name": "Units_HIFLY",
         "rawType": "float64",
         "type": "float"
        },
        {
         "name": "Units_PROVATO",
         "rawType": "float64",
         "type": "float"
        },
        {
         "name": "Units_ARMADILLO",
         "rawType": "float64",
         "type": "float"
        },
        {
         "name": "Units_FUZION",
         "rawType": "float64",
         "type": "float"
        },
        {
         "name": "Units_EUROGRIP",
         "rawType": "float64",
         "type": "float"
        },
        {
         "name": "sales",
         "rawType": "float64",
         "type": "float"
        },
        {
         "name": "Units_is_win_NO",
         "rawType": "float64",
         "type": "float"
        },
        {
         "name": "Units_is_win_YES",
         "rawType": "float64",
         "type": "float"
        },
        {
         "name": "Units_is_ev_-",
         "rawType": "float64",
         "type": "float"
        },
        {
         "name": "Units_is_ev_NO",
         "rawType": "float64",
         "type": "float"
        },
        {
         "name": "Units_is_ev_YES",
         "rawType": "float64",
         "type": "float"
        },
        {
         "name": "Sales_Amount_BLT",
         "rawType": "float64",
         "type": "float"
        },
        {
         "name": "Sales_Amount_FRM",
         "rawType": "float64",
         "type": "float"
        },
        {
         "name": "Sales_Amount_IND",
         "rawType": "float64",
         "type": "float"
        },
        {
         "name": "Sales_Amount_MBT",
         "rawType": "float64",
         "type": "float"
        },
        {
         "name": "Sales_Amount_MRT",
         "rawType": "float64",
         "type": "float"
        },
        {
         "name": "Sales_Amount_OTR",
         "rawType": "float64",
         "type": "float"
        },
        {
         "name": "Sales_Amount_PASS",
         "rawType": "float64",
         "type": "float"
        },
        {
         "name": "Sales_Amount_PSUV",
         "rawType": "float64",
         "type": "float"
        },
        {
         "name": "Sales_Amount_RLT",
         "rawType": "float64",
         "type": "float"
        },
        {
         "name": "Sales_Amount_SPC",
         "rawType": "float64",
         "type": "float"
        },
        {
         "name": "Sales_Amount_TRLR",
         "rawType": "float64",
         "type": "float"
        },
        {
         "name": "Sales_Amount_-",
         "rawType": "float64",
         "type": "float"
        },
        {
         "name": "Sales_Amount_Customer-Billed",
         "rawType": "float64",
         "type": "float"
        },
        {
         "name": "Sales_Amount_National Acct",
         "rawType": "float64",
         "type": "float"
        },
        {
         "name": "Sales_Amount_ADVANCE",
         "rawType": "float64",
         "type": "float"
        },
        {
         "name": "Sales_Amount_BFGOODRICH",
         "rawType": "float64",
         "type": "float"
        },
        {
         "name": "Sales_Amount_BKT",
         "rawType": "float64",
         "type": "float"
        },
        {
         "name": "Sales_Amount_BRIDGESTONE",
         "rawType": "float64",
         "type": "float"
        },
        {
         "name": "Sales_Amount_CARLISLE",
         "rawType": "float64",
         "type": "float"
        },
        {
         "name": "Sales_Amount_CONTINENTAL",
         "rawType": "float64",
         "type": "float"
        },
        {
         "name": "Sales_Amount_COOPER",
         "rawType": "float64",
         "type": "float"
        },
        {
         "name": "Sales_Amount_CORDOVAN",
         "rawType": "float64",
         "type": "float"
        },
        {
         "name": "Sales_Amount_CROSSWIND",
         "rawType": "float64",
         "type": "float"
        },
        {
         "name": "Sales_Amount_DEESTONE",
         "rawType": "float64",
         "type": "float"
        },
        {
         "name": "Sales_Amount_DELTA",
         "rawType": "float64",
         "type": "float"
        },
        {
         "name": "Sales_Amount_DORAL",
         "rawType": "float64",
         "type": "float"
        },
        {
         "name": "Sales_Amount_DOUBLE COIN",
         "rawType": "float64",
         "type": "float"
        },
        {
         "name": "Sales_Amount_DURATURN",
         "rawType": "float64",
         "type": "float"
        },
        {
         "name": "Sales_Amount_DURO",
         "rawType": "float64",
         "type": "float"
        },
        {
         "name": "Sales_Amount_EL DORADO",
         "rawType": "float64",
         "type": "float"
        },
        {
         "name": "Sales_Amount_FIRESTONE",
         "rawType": "float64",
         "type": "float"
        },
        {
         "name": "Sales_Amount_GENERAL",
         "rawType": "float64",
         "type": "float"
        },
        {
         "name": "Sales_Amount_GLADIATOR",
         "rawType": "float64",
         "type": "float"
        },
        {
         "name": "Sales_Amount_GOODYEAR",
         "rawType": "float64",
         "type": "float"
        },
        {
         "name": "Sales_Amount_HANKOOK",
         "rawType": "float64",
         "type": "float"
        },
        {
         "name": "Sales_Amount_HARVEST KING",
         "rawType": "float64",
         "type": "float"
        },
        {
         "name": "Sales_Amount_LAUFENN",
         "rawType": "float64",
         "type": "float"
        },
        {
         "name": "Sales_Amount_MALHOTRA",
         "rawType": "float64",
         "type": "float"
        },
        {
         "name": "Sales_Amount_MASTERCRAFT",
         "rawType": "float64",
         "type": "float"
        },
        {
         "name": "Sales_Amount_MAXXIS",
         "rawType": "float64",
         "type": "float"
        },
        {
         "name": "Sales_Amount_MICHELIN",
         "rawType": "float64",
         "type": "float"
        },
        {
         "name": "Sales_Amount_MULTI MILE",
         "rawType": "float64",
         "type": "float"
        },
        {
         "name": "Sales_Amount_NANCO",
         "rawType": "float64",
         "type": "float"
        },
        {
         "name": "Sales_Amount_NANKANG",
         "rawType": "float64",
         "type": "float"
        },
        {
         "name": "Sales_Amount_NATIONAL",
         "rawType": "float64",
         "type": "float"
        },
        {
         "name": "Sales_Amount_NEXEN",
         "rawType": "float64",
         "type": "float"
        },
        {
         "name": "Sales_Amount_NITTO",
         "rawType": "float64",
         "type": "float"
        },
        {
         "name": "Sales_Amount_NORTECH",
         "rawType": "float64",
         "type": "float"
        },
        {
         "name": "Sales_Amount_PIRELLI",
         "rawType": "float64",
         "type": "float"
        },
        {
         "name": "Sales_Amount_POWER KING",
         "rawType": "float64",
         "type": "float"
        },
        {
         "name": "Sales_Amount_PRINX",
         "rawType": "float64",
         "type": "float"
        },
        {
         "name": "Sales_Amount_SAILUN",
         "rawType": "float64",
         "type": "float"
        },
        {
         "name": "Sales_Amount_SAMSON",
         "rawType": "float64",
         "type": "float"
        },
        {
         "name": "Sales_Amount_SAXON",
         "rawType": "float64",
         "type": "float"
        },
        {
         "name": "Sales_Amount_SOLIDEAL",
         "rawType": "float64",
         "type": "float"
        },
        {
         "name": "Sales_Amount_SUMITOMO",
         "rawType": "float64",
         "type": "float"
        },
        {
         "name": "Sales_Amount_TBC NEUTRAL",
         "rawType": "float64",
         "type": "float"
        },
        {
         "name": "Sales_Amount_TIRE CO",
         "rawType": "float64",
         "type": "float"
        },
        {
         "name": "Sales_Amount_TOYO",
         "rawType": "float64",
         "type": "float"
        },
        {
         "name": "Sales_Amount_TRAC GARD",
         "rawType": "float64",
         "type": "float"
        },
        {
         "name": "Sales_Amount_TRELLEBORG",
         "rawType": "float64",
         "type": "float"
        },
        {
         "name": "Sales_Amount_UNIROYAL",
         "rawType": "float64",
         "type": "float"
        },
        {
         "name": "Sales_Amount_VANDERBILT",
         "rawType": "float64",
         "type": "float"
        },
        {
         "name": "Sales_Amount_VOGUE",
         "rawType": "float64",
         "type": "float"
        },
        {
         "name": "Sales_Amount_VOMA",
         "rawType": "float64",
         "type": "float"
        },
        {
         "name": "Sales_Amount_YOKOHAMA",
         "rawType": "float64",
         "type": "float"
        },
        {
         "name": "Sales_Amount_ZENNA",
         "rawType": "float64",
         "type": "float"
        },
        {
         "name": "Sales_Amount_NON_STOCK TIRES (XP",
         "rawType": "float64",
         "type": "float"
        },
        {
         "name": "Sales_Amount_CADDIEMASTER",
         "rawType": "float64",
         "type": "float"
        },
        {
         "name": "Sales_Amount_MICKEY THOMPSON",
         "rawType": "float64",
         "type": "float"
        },
        {
         "name": "Sales_Amount_STARFIRE",
         "rawType": "float64",
         "type": "float"
        },
        {
         "name": "Sales_Amount_KUMHO",
         "rawType": "float64",
         "type": "float"
        },
        {
         "name": "Sales_Amount_WANDA",
         "rawType": "float64",
         "type": "float"
        },
        {
         "name": "Sales_Amount_OHTSU",
         "rawType": "float64",
         "type": "float"
        },
        {
         "name": "Sales_Amount_ARMOUR",
         "rawType": "float64",
         "type": "float"
        },
        {
         "name": "Sales_Amount_GREENBALL",
         "rawType": "float64",
         "type": "float"
        },
        {
         "name": "Sales_Amount_LINGLONG",
         "rawType": "float64",
         "type": "float"
        },
        {
         "name": "Sales_Amount_RIKEN",
         "rawType": "float64",
         "type": "float"
        },
        {
         "name": "Sales_Amount_COUNTRYWIDE",
         "rawType": "float64",
         "type": "float"
        },
        {
         "name": "Sales_Amount_KLEBER",
         "rawType": "float64",
         "type": "float"
        },
        {
         "name": "Sales_Amount_TEMPRA",
         "rawType": "float64",
         "type": "float"
        },
        {
         "name": "Sales_Amount_DUNLOP",
         "rawType": "float64",
         "type": "float"
        },
        {
         "name": "Sales_Amount_SIGMA",
         "rawType": "float64",
         "type": "float"
        },
        {
         "name": "Sales_Amount_SPECIALTY",
         "rawType": "float64",
         "type": "float"
        },
        {
         "name": "Sales_Amount_DYNACARGO",
         "rawType": "float64",
         "type": "float"
        },
        {
         "name": "Sales_Amount_BIG O",
         "rawType": "float64",
         "type": "float"
        },
        {
         "name": "Sales_Amount_DENMAN",
         "rawType": "float64",
         "type": "float"
        },
        {
         "name": "Sales_Amount_HIFLY",
         "rawType": "float64",
         "type": "float"
        },
        {
         "name": "Sales_Amount_PROVATO",
         "rawType": "float64",
         "type": "float"
        },
        {
         "name": "Sales_Amount_ARMADILLO",
         "rawType": "float64",
         "type": "float"
        },
        {
         "name": "Sales_Amount_FUZION",
         "rawType": "float64",
         "type": "float"
        },
        {
         "name": "Sales_Amount_EUROGRIP",
         "rawType": "float64",
         "type": "float"
        },
        {
         "name": "Sales_Amount_is_win_NO",
         "rawType": "float64",
         "type": "float"
        },
        {
         "name": "Sales_Amount_is_win_YES",
         "rawType": "float64",
         "type": "float"
        },
        {
         "name": "Sales_Amount_is_ev_-",
         "rawType": "float64",
         "type": "float"
        },
        {
         "name": "Sales_Amount_is_ev_NO",
         "rawType": "float64",
         "type": "float"
        },
        {
         "name": "Sales_Amount_is_ev_YES",
         "rawType": "float64",
         "type": "float"
        },
        {
         "name": "Sales_Amount",
         "rawType": "float64",
         "type": "float"
        },
        {
         "name": "Units",
         "rawType": "float64",
         "type": "float"
        },
        {
         "name": "churn",
         "rawType": "float64",
         "type": "float"
        },
        {
         "name": "Channel_CD",
         "rawType": "float64",
         "type": "float"
        },
        {
         "name": "Channel_FS",
         "rawType": "float64",
         "type": "float"
        },
        {
         "name": "Channel_NR",
         "rawType": "float64",
         "type": "float"
        },
        {
         "name": "Channel_NUC",
         "rawType": "float64",
         "type": "float"
        },
        {
         "name": "IsProgram",
         "rawType": "float64",
         "type": "float"
        },
        {
         "name": "NumOfPrograms",
         "rawType": "float64",
         "type": "float"
        },
        {
         "name": "BO_GROUP",
         "rawType": "float64",
         "type": "float"
        },
        {
         "name": "CBI_GROUP",
         "rawType": "float64",
         "type": "float"
        },
        {
         "name": "CDGTREAD",
         "rawType": "float64",
         "type": "float"
        },
        {
         "name": "CDGVTP",
         "rawType": "float64",
         "type": "float"
        },
        {
         "name": "ICOOPMED",
         "rawType": "float64",
         "type": "float"
        },
        {
         "name": "IFLEETDLR",
         "rawType": "float64",
         "type": "float"
        },
        {
         "name": "IHANKONE",
         "rawType": "float64",
         "type": "float"
        },
        {
         "name": "IMASTALLI",
         "rawType": "float64",
         "type": "float"
        },
        {
         "name": "INEXNTLVL",
         "rawType": "float64",
         "type": "float"
        },
        {
         "name": "INITTOENT",
         "rawType": "float64",
         "type": "float"
        },
        {
         "name": "INTWMT",
         "rawType": "float64",
         "type": "float"
        },
        {
         "name": "INTWT3",
         "rawType": "float64",
         "type": "float"
        },
        {
         "name": "IPIRFSTRK",
         "rawType": "float64",
         "type": "float"
        },
        {
         "name": "ISIGNPRO",
         "rawType": "float64",
         "type": "float"
        },
        {
         "name": "ITADMILLNM",
         "rawType": "float64",
         "type": "float"
        },
        {
         "name": "ITADSEPLUS",
         "rawType": "float64",
         "type": "float"
        },
        {
         "name": "ITBCCORE",
         "rawType": "float64",
         "type": "float"
        },
        {
         "name": "ITOYODRVN",
         "rawType": "float64",
         "type": "float"
        },
        {
         "name": "OREXCEPT",
         "rawType": "float64",
         "type": "float"
        }
       ],
       "ref": "eb2fa836-a3a3-4413-8d51-13d31c1427ad",
       "rows": [
        [
         "count",
         "2000.0",
         "2000.0",
         "2000.0",
         "2000.0",
         "2000.0",
         "2000.0",
         "2000.0",
         "2000.0",
         "2000.0",
         "2000.0",
         "2000.0",
         "2000.0",
         "2000.0",
         "2000.0",
         "2000.0",
         "2000.0",
         "2000.0",
         "2000.0",
         "2000.0",
         "2000.0",
         "2000.0",
         "2000.0",
         "2000.0",
         "2000.0",
         "2000.0",
         "2000.0",
         "2000.0",
         "2000.0",
         "2000.0",
         "2000.0",
         "2000.0",
         "2000.0",
         "2000.0",
         "2000.0",
         "2000.0",
         "2000.0",
         "2000.0",
         "2000.0",
         "2000.0",
         "2000.0",
         "2000.0",
         "2000.0",
         "2000.0",
         "2000.0",
         "2000.0",
         "2000.0",
         "2000.0",
         "2000.0",
         "2000.0",
         "2000.0",
         "2000.0",
         "2000.0",
         "2000.0",
         "2000.0",
         "2000.0",
         "2000.0",
         "2000.0",
         "2000.0",
         "2000.0",
         "2000.0",
         "2000.0",
         "2000.0",
         "2000.0",
         "2000.0",
         "2000.0",
         "2000.0",
         "2000.0",
         "2000.0",
         "2000.0",
         "2000.0",
         "2000.0",
         "2000.0",
         "2000.0",
         "2000.0",
         "2000.0",
         "2000.0",
         "2000.0",
         "2000.0",
         "2000.0",
         "2000.0",
         "2000.0",
         "2000.0",
         "2000.0",
         "2000.0",
         "2000.0",
         "2000.0",
         "2000.0",
         "2000.0",
         "2000.0",
         "2000.0",
         "2000.0",
         "2000.0",
         "2000.0",
         "2000.0",
         "2000.0",
         "2000.0",
         "2000.0",
         "2000.0",
         "2000.0",
         "2000.0",
         "2000.0",
         "2000.0",
         "2000.0",
         "2000.0",
         "2000.0",
         "2000.0",
         "2000.0",
         "2000.0",
         "2000.0",
         "2000.0",
         "2000.0",
         "2000.0",
         "2000.0",
         "2000.0",
         "2000.0",
         "2000.0",
         "2000.0",
         "2000.0",
         "2000.0",
         "2000.0",
         "2000.0",
         "2000.0",
         "2000.0",
         "2000.0",
         "2000.0",
         "2000.0",
         "2000.0",
         "2000.0",
         "2000.0",
         "2000.0",
         "2000.0",
         "2000.0",
         "2000.0",
         "2000.0",
         "2000.0",
         "2000.0",
         "2000.0",
         "2000.0",
         "2000.0",
         "2000.0",
         "2000.0",
         "2000.0",
         "2000.0",
         "2000.0",
         "2000.0",
         "2000.0",
         "2000.0",
         "2000.0",
         "2000.0",
         "2000.0",
         "2000.0",
         "2000.0",
         "2000.0",
         "2000.0",
         "2000.0",
         "2000.0",
         "2000.0",
         "2000.0",
         "2000.0",
         "2000.0",
         "2000.0",
         "2000.0",
         "2000.0",
         "2000.0",
         "2000.0",
         "2000.0",
         "2000.0",
         "2000.0",
         "2000.0",
         "2000.0",
         "2000.0",
         "2000.0",
         "2000.0",
         "2000.0",
         "2000.0",
         "2000.0",
         "2000.0",
         "2000.0",
         "2000.0",
         "2000.0",
         "2000.0",
         "2000.0",
         "2000.0",
         "2000.0",
         "2000.0",
         "2000.0",
         "2000.0",
         "2000.0",
         "2000.0",
         "2000.0",
         "2000.0",
         "2000.0",
         "2000.0",
         "2000.0",
         "2000.0",
         "2000.0",
         "2000.0",
         "2000.0",
         "2000.0",
         "2000.0",
         "2000.0",
         "2000.0",
         "2000.0",
         "2000.0",
         "2000.0",
         "2000.0",
         "2000.0",
         "2000.0",
         "2000.0",
         "2000.0",
         "2000.0",
         "2000.0",
         "2000.0",
         "2000.0",
         "2000.0",
         "2000.0",
         "2000.0",
         "2000.0",
         "2000.0",
         "2000.0",
         "2000.0",
         "2000.0",
         "2000.0",
         "2000.0",
         "2000.0",
         "2000.0",
         "2000.0",
         "2000.0",
         "2000.0"
        ],
        [
         "mean",
         "30608255.3035",
         "48.858",
         "87.221",
         "480.9955901333132",
         "287.642",
         "280.37447427579923",
         "0.39392822147265405",
         "1.5032713944289313",
         "0.7752618112277566",
         "0.13250466014113554",
         "12.606162198045215",
         "0.137",
         "132.5116920756647",
         "65.53471310115513",
         "48.090531512660775",
         "4.91591954065691",
         "13.768989760345951",
         "0.0045",
         "171.6828909269813",
         "108.6915833488179",
         "0.002",
         "28.74732316082691",
         "0.6965302184908765",
         "0.052539505261214696",
         "4.3834289524472805",
         "3.3601367243028375",
         "14.795703008192426",
         "0.0025",
         "3.418515219988766",
         "0.2947409326424871",
         "0.0",
         "0.028",
         "0.5581967296125098",
         "0.0",
         "0.0",
         "0.0",
         "0.011",
         "4.330560060688968",
         "0.013",
         "0.0065",
         "9.29725330030751",
         "0.8942769064731324",
         "0.23903907263294422",
         "0.0",
         "0.0",
         "0.07299571293545773",
         "80.79238951989906",
         "0.034",
         "0.0",
         "0.521855437137945",
         "9.628833285229536",
         "5.884056033399725",
         "7.734302178333857",
         "0.001",
         "4.273787417792389",
         "5.4752770250525975",
         "11.186742037794344",
         "33.471368409689504",
         "0.001",
         "0.002",
         "0.0",
         "15.335585724979678",
         "12.96939172308948",
         "0.0075",
         "4.490326411456188",
         "0.0665",
         "0.003",
         "13.058697623925626",
         "0.0",
         "0.9319231147325053",
         "0.0095",
         "2.842928807438652",
         "0.0715",
         "0.0045",
         "0.03624390243902439",
         "0.0",
         "0.0",
         "0.001",
         "0.3350261186057592",
         "0.0",
         "0.0",
         "0.0",
         "0.0",
         "0.0",
         "0.0",
         "0.0",
         "0.0",
         "0.0",
         "0.0",
         "0.0",
         "0.0",
         "0.0",
         "0.0",
         "0.0",
         "0.0",
         "0.0",
         "0.0",
         "0.0",
         "42812.20577287135",
         "279.3828558627772",
         "0.987118413021999",
         "216.6235785870563",
         "63.706895688742875",
         "0.044",
         "43.08610317829457",
         "288.2081013327375",
         "114.57497020151371",
         "24.20002506818182",
         "3845.484014651268",
         "70.35114621028913",
         "16005.815236571063",
         "10723.445549238086",
         "10217.220372967091",
         "299.3059634891181",
         "1179.7706899636985",
         "0.7436",
         "22125.250031344905",
         "20686.95574152643",
         "0.53596",
         "5287.073535324807",
         "152.77567034519515",
         "6.472592752446004",
         "327.0763009644278",
         "549.337807342459",
         "2309.8680437720027",
         "0.25215",
         "283.82153556864347",
         "19.050850377018165",
         "0.0",
         "1.4161000000000001",
         "140.11350003221358",
         "0.0",
         "0.0",
         "0.0",
         "4.854878416666667",
         "541.7326506713333",
         "1.2334200000000002",
         "0.714205",
         "1180.0656922185888",
         "140.39356875830777",
         "18.889689999999998",
         "0.0",
         "0.0",
         "4.960412788954902",
         "16690.18826238286",
         "3.1545150000000004",
         "0.0",
         "17.46323",
         "831.99402119516",
         "614.8589427129702",
         "1751.532101639916",
         "0.04243",
         "851.6073864059457",
         "499.2179494180485",
         "1389.8435830739884",
         "3168.23707650854",
         "0.21741999999999997",
         "0.119",
         "0.0",
         "1906.9459977603367",
         "1208.826610460085",
         "0.48280499999999993",
         "849.0458378584401",
         "1.9600600000000001",
         "0.248005",
         "1438.3378580373446",
         "0.0",
         "209.17919385477308",
         "0.484875",
         "376.95991467127186",
         "15.21389438786322",
         "0.7436",
         "1.3029781707317074",
         "0.0",
         "0.0",
         "0.13209",
         "13.22757",
         "0.0",
         "0.0",
         "0.0",
         "0.0",
         "0.0",
         "0.0",
         "0.0",
         "0.0",
         "0.0",
         "0.0",
         "0.0",
         "0.0",
         "0.0",
         "0.0",
         "0.0",
         "0.0",
         "0.0",
         "0.0",
         "0.0",
         "42686.22306851609",
         "125.2391043552513",
         "33225.478009872844",
         "9575.024152998489",
         "11.70361",
         "15311.128156188664",
         "95.26012292801958",
         "0.181",
         "0.109",
         "0.7125",
         "0.1735",
         "0.005",
         "0.0855",
         "0.134",
         "0.001",
         "0.0015",
         "0.0105",
         "0.0045",
         "0.0095",
         "0.004",
         "0.007",
         "0.0205",
         "0.004",
         "0.007",
         "0.0",
         "0.013",
         "0.001",
         "0.003",
         "0.0",
         "0.0105",
         "0.0365",
         "0.0005",
         "0.0"
        ],
        [
         "std",
         "10380767.771580955",
         "85.82924423285336",
         "278.5671013849033",
         "575.5177810436318",
         "170.28625470151763",
         "1119.7911145039664",
         "2.8156866879360907",
         "8.5661443222446",
         "5.0504754225845625",
         "0.9746690880478522",
         "63.324134542104126",
         "1.272808320412094",
         "709.0499081029122",
         "273.68223839710913",
         "204.53281860780902",
         "48.713841568306904",
         "70.86754814948324",
         "0.2012461179749811",
         "942.9242155561788",
         "535.9850349188116",
         "0.08944271909999162",
         "140.63608076633952",
         "4.057839221579864",
         "0.8038482164001798",
         "53.83390884682524",
         "17.802674167273835",
         "81.26977335363324",
         "0.09218459198531906",
         "38.1559821728601",
         "1.9698807600450092",
         "0.0",
         "0.5562110079301482",
         "10.308165157153374",
         "0.0",
         "0.0",
         "0.0",
         "0.15456696112926713",
         "54.25532644110414",
         "0.2405409112084314",
         "0.22018626432068317",
         "29.924200876642438",
         "5.678145630860381",
         "6.256951182016938",
         "0.0",
         "0.0",
         "1.685961738806691",
         "328.25000651695905",
         "0.4969582313855672",
         "0.0",
         "4.220542781133716",
         "52.78383652936622",
         "46.98470281659417",
         "35.65256853336986",
         "0.04472135954999581",
         "21.510894303768502",
         "35.187066345869596",
         "56.66656623921219",
         "383.83105288385553",
         "0.031614865963260665",
         "0.0894427190999916",
         "0.0",
         "202.56439352406392",
         "136.7992096373758",
         "0.14647346940186579",
         "20.398712229050386",
         "1.207810893135506",
         "0.13416407864998733",
         "128.5085681445774",
         "0.0",
         "7.653662055469324",
         "0.20107203928565312",
         "19.952961595951475",
         "1.552608465300657",
         "0.2012461179749811",
         "0.809674111485086",
         "0.0",
         "0.0",
         "0.04472135954999581",
         "4.063939224330437",
         "0.0",
         "0.0",
         "0.0",
         "0.0",
         "0.0",
         "0.0",
         "0.0",
         "0.0",
         "0.0",
         "0.0",
         "0.0",
         "0.0",
         "0.0",
         "0.0",
         "0.0",
         "0.0",
         "0.0",
         "0.0",
         "0.0",
         "149957.60551524762",
         "1118.6008573045895",
         "6.483988862922473",
         "942.6196890807778",
         "243.48107990425433",
         "0.5396384018974199",
         "301.51294605374324",
         "1711.7237789091168",
         "921.4703943387227",
         "178.49282763675072",
         "21165.949553011244",
         "682.6016909522189",
         "75993.38407501156",
         "39338.538356990604",
         "45237.57799820346",
         "3114.335209472936",
         "6454.018461768354",
         "33.254802961376875",
         "106658.63111131085",
         "97696.11290162697",
         "23.96885986441575",
         "27872.414305127262",
         "1004.9650575832181",
         "101.89765271269958",
         "3738.9643993200857",
         "2814.4084567744453",
         "13220.351850092682",
         "9.1756995432803",
         "2901.007331584311",
         "153.65103444078784",
         "0.0",
         "28.11010660486133",
         "2564.880409810605",
         "0.0",
         "0.0",
         "0.0",
         "86.45461755854726",
         "6464.680465356138",
         "23.017968879752942",
         "24.256704828408605",
         "3847.394263410299",
         "899.8810887282939",
         "473.10604945204193",
         "0.0",
         "0.0",
         "105.0553186828682",
         "66342.15132192515",
         "46.09419029828383",
         "0.0",
         "172.29975816117184",
         "4753.915869816709",
         "4386.276390801333",
         "8558.278658235595",
         "1.8975272857063215",
         "4492.476368278143",
         "3046.8566316352117",
         "7622.638170115541",
         "31434.91725164059",
         "6.874711206347897",
         "5.321841786449499",
         "0.0",
         "20750.706806515314",
         "12192.929516701266",
         "9.485310524165508",
         "4621.480410703384",
         "36.25161785348203",
         "11.091120775196712",
         "14283.787235242293",
         "0.0",
         "1770.6288992018974",
         "10.338527204430687",
         "2402.5378178132155",
         "337.83242269897244",
         "33.254802961376875",
         "26.881663852522315",
         "0.0",
         "0.0",
         "5.907244382958943",
         "147.81084717356228",
         "0.0",
         "0.0",
         "0.0",
         "0.0",
         "0.0",
         "0.0",
         "0.0",
         "0.0",
         "0.0",
         "0.0",
         "0.0",
         "0.0",
         "0.0",
         "0.0",
         "0.0",
         "0.0",
         "0.0",
         "0.0",
         "0.0",
         "149742.19024922585",
         "861.7644809285482",
         "120373.35141476947",
         "35887.220793032524",
         "134.94696556731392",
         "43867.423473812436",
         "267.12274429983074",
         "0.3851144720447274",
         "0.3117171535092285",
         "0.45270986637310623",
         "0.37877365898696186",
         "0.07055131993359294",
         "0.2796942338201059",
         "0.556056291484639",
         "0.031614865963260665",
         "0.038710454009541304",
         "0.10195561521435133",
         "0.06694767356299808",
         "0.09702812596672321",
         "0.06313472100594292",
         "0.08339350837217072",
         "0.14173847359644004",
         "0.06313472100594292",
         "0.08339350837217072",
         "0.0",
         "0.11330233320349001",
         "0.031614865963260665",
         "0.05470371329374326",
         "0.0",
         "0.10195561521435133",
         "0.1875775644135931",
         "0.022360679774997897",
         "0.0"
        ],
        [
         "min",
         "10000109.0",
         "1.0",
         "1.0",
         "21.96",
         "1.0",
         "0.0385932670620665",
         "0.0",
         "0.0",
         "0.0",
         "0.0",
         "-7.0",
         "0.0",
         "0.0",
         "0.0",
         "0.0",
         "0.0",
         "0.0",
         "0.0",
         "-8.0",
         "0.0",
         "0.0",
         "0.0",
         "0.0",
         "0.0",
         "0.0",
         "0.0",
         "0.0",
         "0.0",
         "0.0",
         "0.0",
         "0.0",
         "0.0",
         "0.0",
         "0.0",
         "0.0",
         "0.0",
         "0.0",
         "0.0",
         "0.0",
         "0.0",
         "0.0",
         "0.0",
         "0.0",
         "0.0",
         "0.0",
         "0.0",
         "0.0",
         "0.0",
         "0.0",
         "0.0",
         "0.0",
         "0.0",
         "0.0",
         "0.0",
         "0.0",
         "0.0",
         "0.0",
         "0.0",
         "0.0",
         "0.0",
         "0.0",
         "0.0",
         "0.0",
         "0.0",
         "0.0",
         "0.0",
         "0.0",
         "0.0",
         "0.0",
         "0.0",
         "0.0",
         "0.0",
         "0.0",
         "0.0",
         "0.0",
         "0.0",
         "0.0",
         "0.0",
         "0.0",
         "0.0",
         "0.0",
         "0.0",
         "0.0",
         "0.0",
         "0.0",
         "0.0",
         "0.0",
         "0.0",
         "0.0",
         "0.0",
         "0.0",
         "0.0",
         "0.0",
         "0.0",
         "0.0",
         "0.0",
         "0.0",
         "0.0",
         "21.96",
         "0.0",
         "0.0",
         "0.0",
         "0.0",
         "0.0",
         "0.0",
         "0.0",
         "0.0",
         "0.0",
         "0.0",
         "0.0",
         "0.0",
         "0.0",
         "0.0",
         "0.0",
         "0.0",
         "0.0",
         "0.0",
         "0.0",
         "0.0",
         "0.0",
         "0.0",
         "0.0",
         "0.0",
         "0.0",
         "0.0",
         "0.0",
         "0.0",
         "0.0",
         "0.0",
         "0.0",
         "0.0",
         "0.0",
         "0.0",
         "0.0",
         "0.0",
         "0.0",
         "0.0",
         "0.0",
         "0.0",
         "0.0",
         "0.0",
         "0.0",
         "0.0",
         "0.0",
         "0.0",
         "0.0",
         "0.0",
         "0.0",
         "0.0",
         "0.0",
         "0.0",
         "0.0",
         "0.0",
         "0.0",
         "0.0",
         "0.0",
         "0.0",
         "0.0",
         "0.0",
         "0.0",
         "0.0",
         "0.0",
         "0.0",
         "0.0",
         "0.0",
         "0.0",
         "0.0",
         "0.0",
         "0.0",
         "0.0",
         "0.0",
         "0.0",
         "0.0",
         "0.0",
         "0.0",
         "0.0",
         "0.0",
         "0.0",
         "0.0",
         "0.0",
         "0.0",
         "0.0",
         "0.0",
         "0.0",
         "0.0",
         "0.0",
         "0.0",
         "0.0",
         "0.0",
         "0.0",
         "0.0",
         "0.0",
         "0.0",
         "0.0",
         "0.0",
         "0.0",
         "0.0",
         "0.0",
         "0.0",
         "0.0",
         "0.0",
         "0.0",
         "0.0",
         "0.0",
         "0.0",
         "0.0",
         "0.0",
         "0.0",
         "0.0",
         "0.0",
         "0.0",
         "0.0",
         "0.0",
         "0.0",
         "0.0",
         "0.0",
         "0.0",
         "0.0",
         "0.0",
         "0.0",
         "0.0",
         "0.0",
         "0.0",
         "0.0",
         "0.0",
         "0.0",
         "0.0",
         "0.0",
         "0.0"
        ],
        [
         "25%",
         "25284432.0",
         "4.0",
         "4.75",
         "275.4856299133239",
         "147.0",
         "12.0",
         "0.0",
         "0.0",
         "0.0",
         "0.0",
         "0.0",
         "0.0",
         "4.0",
         "0.0",
         "0.0",
         "0.0",
         "0.0",
         "0.0",
         "5.0",
         "0.0",
         "0.0",
         "0.0",
         "0.0",
         "0.0",
         "0.0",
         "0.0",
         "0.0",
         "0.0",
         "0.0",
         "0.0",
         "0.0",
         "0.0",
         "0.0",
         "0.0",
         "0.0",
         "0.0",
         "0.0",
         "0.0",
         "0.0",
         "0.0",
         "0.0",
         "0.0",
         "0.0",
         "0.0",
         "0.0",
         "0.0",
         "0.0",
         "0.0",
         "0.0",
         "0.0",
         "0.0",
         "0.0",
         "0.0",
         "0.0",
         "0.0",
         "0.0",
         "0.0",
         "0.0",
         "0.0",
         "0.0",
         "0.0",
         "0.0",
         "0.0",
         "0.0",
         "0.0",
         "0.0",
         "0.0",
         "0.0",
         "0.0",
         "0.0",
         "0.0",
         "0.0",
         "0.0",
         "0.0",
         "0.0",
         "0.0",
         "0.0",
         "0.0",
         "0.0",
         "0.0",
         "0.0",
         "0.0",
         "0.0",
         "0.0",
         "0.0",
         "0.0",
         "0.0",
         "0.0",
         "0.0",
         "0.0",
         "0.0",
         "0.0",
         "0.0",
         "0.0",
         "0.0",
         "0.0",
         "0.0",
         "0.0",
         "1735.5549999999998",
         "12.0",
         "0.0",
         "10.0",
         "0.0",
         "0.0",
         "0.0",
         "0.0",
         "0.0",
         "0.0",
         "0.0",
         "0.0",
         "323.395",
         "0.0",
         "0.0",
         "0.0",
         "0.0",
         "0.0",
         "664.3248958333334",
         "0.0",
         "0.0",
         "0.0",
         "0.0",
         "0.0",
         "0.0",
         "0.0",
         "0.0",
         "0.0",
         "0.0",
         "0.0",
         "0.0",
         "0.0",
         "0.0",
         "0.0",
         "0.0",
         "0.0",
         "0.0",
         "0.0",
         "0.0",
         "0.0",
         "0.0",
         "0.0",
         "0.0",
         "0.0",
         "0.0",
         "0.0",
         "0.0",
         "0.0",
         "0.0",
         "0.0",
         "0.0",
         "0.0",
         "0.0",
         "0.0",
         "0.0",
         "0.0",
         "0.0",
         "0.0",
         "0.0",
         "0.0",
         "0.0",
         "0.0",
         "0.0",
         "0.0",
         "0.0",
         "0.0",
         "0.0",
         "0.0",
         "0.0",
         "0.0",
         "0.0",
         "0.0",
         "0.0",
         "0.0",
         "0.0",
         "0.0",
         "0.0",
         "0.0",
         "0.0",
         "0.0",
         "0.0",
         "0.0",
         "0.0",
         "0.0",
         "0.0",
         "0.0",
         "0.0",
         "0.0",
         "0.0",
         "0.0",
         "0.0",
         "0.0",
         "0.0",
         "0.0",
         "0.0",
         "0.0",
         "0.0",
         "0.0",
         "1727.935",
         "0.0",
         "1413.33",
         "0.0",
         "0.0",
         "482.89500000000004",
         "4.0",
         "0.0",
         "0.0",
         "0.0",
         "0.0",
         "0.0",
         "0.0",
         "0.0",
         "0.0",
         "0.0",
         "0.0",
         "0.0",
         "0.0",
         "0.0",
         "0.0",
         "0.0",
         "0.0",
         "0.0",
         "0.0",
         "0.0",
         "0.0",
         "0.0",
         "0.0",
         "0.0",
         "0.0",
         "0.0",
         "0.0"
        ],
        [
         "50%",
         "34079794.0",
         "12.0",
         "17.0",
         "384.51841760299624",
         "274.0",
         "48.749336870026525",
         "0.0",
         "0.0",
         "0.0",
         "0.0",
         "0.0",
         "0.0",
         "17.0",
         "8.0",
         "5.0",
         "0.0",
         "0.0",
         "0.0",
         "24.0",
         "0.0",
         "0.0",
         "0.0",
         "0.0",
         "0.0",
         "0.0",
         "0.0",
         "0.0",
         "0.0",
         "0.0",
         "0.0",
         "0.0",
         "0.0",
         "0.0",
         "0.0",
         "0.0",
         "0.0",
         "0.0",
         "0.0",
         "0.0",
         "0.0",
         "0.0",
         "0.0",
         "0.0",
         "0.0",
         "0.0",
         "0.0",
         "4.0",
         "0.0",
         "0.0",
         "0.0",
         "0.0",
         "0.0",
         "0.0",
         "0.0",
         "0.0",
         "0.0",
         "0.0",
         "0.0",
         "0.0",
         "0.0",
         "0.0",
         "0.0",
         "0.0",
         "0.0",
         "0.0",
         "0.0",
         "0.0",
         "0.0",
         "0.0",
         "0.0",
         "0.0",
         "0.0",
         "0.0",
         "0.0",
         "0.0",
         "0.0",
         "0.0",
         "0.0",
         "0.0",
         "0.0",
         "0.0",
         "0.0",
         "0.0",
         "0.0",
         "0.0",
         "0.0",
         "0.0",
         "0.0",
         "0.0",
         "0.0",
         "0.0",
         "0.0",
         "0.0",
         "0.0",
         "0.0",
         "0.0",
         "0.0",
         "0.0",
         "6812.54",
         "48.0",
         "0.0",
         "37.0",
         "8.0",
         "0.0",
         "0.0",
         "0.0",
         "0.0",
         "0.0",
         "0.0",
         "0.0",
         "1839.79",
         "1176.5349999999999",
         "946.2118867924528",
         "0.0",
         "0.0",
         "0.0",
         "3235.4049999999997",
         "0.0",
         "0.0",
         "0.0",
         "0.0",
         "0.0",
         "0.0",
         "0.0",
         "0.0",
         "0.0",
         "0.0",
         "0.0",
         "0.0",
         "0.0",
         "0.0",
         "0.0",
         "0.0",
         "0.0",
         "0.0",
         "0.0",
         "0.0",
         "0.0",
         "0.0",
         "0.0",
         "0.0",
         "0.0",
         "0.0",
         "0.0",
         "748.16",
         "0.0",
         "0.0",
         "0.0",
         "0.0",
         "0.0",
         "0.0",
         "0.0",
         "0.0",
         "0.0",
         "0.0",
         "0.0",
         "0.0",
         "0.0",
         "0.0",
         "0.0",
         "0.0",
         "0.0",
         "0.0",
         "0.0",
         "0.0",
         "0.0",
         "0.0",
         "0.0",
         "0.0",
         "0.0",
         "0.0",
         "0.0",
         "0.0",
         "0.0",
         "0.0",
         "0.0",
         "0.0",
         "0.0",
         "0.0",
         "0.0",
         "0.0",
         "0.0",
         "0.0",
         "0.0",
         "0.0",
         "0.0",
         "0.0",
         "0.0",
         "0.0",
         "0.0",
         "0.0",
         "0.0",
         "0.0",
         "0.0",
         "0.0",
         "0.0",
         "6812.54",
         "0.0",
         "5263.549379120879",
         "995.175",
         "0.0",
         "2609.9700000000003",
         "17.0",
         "0.0",
         "0.0",
         "1.0",
         "0.0",
         "0.0",
         "0.0",
         "0.0",
         "0.0",
         "0.0",
         "0.0",
         "0.0",
         "0.0",
         "0.0",
         "0.0",
         "0.0",
         "0.0",
         "0.0",
         "0.0",
         "0.0",
         "0.0",
         "0.0",
         "0.0",
         "0.0",
         "0.0",
         "0.0",
         "0.0"
        ],
        [
         "75%",
         "40021720.5",
         "49.0",
         "60.0",
         "530.0495833333333",
         "430.0",
         "173.12970497454603",
         "0.0",
         "0.0",
         "0.0",
         "0.0",
         "2.0",
         "0.0",
         "70.0",
         "34.0",
         "22.0",
         "0.0",
         "4.0",
         "0.0",
         "95.25",
         "7.0",
         "0.0",
         "8.0",
         "0.0",
         "0.0",
         "0.0",
         "1.0",
         "6.0",
         "0.0",
         "0.0",
         "0.0",
         "0.0",
         "0.0",
         "0.0",
         "0.0",
         "0.0",
         "0.0",
         "0.0",
         "0.0",
         "0.0",
         "0.0",
         "6.0",
         "0.0",
         "0.0",
         "0.0",
         "0.0",
         "0.0",
         "21.0",
         "0.0",
         "0.0",
         "0.0",
         "3.0",
         "4.0",
         "4.0",
         "0.0",
         "0.0",
         "1.0",
         "2.0",
         "11.0",
         "0.0",
         "0.0",
         "0.0",
         "4.0",
         "4.0",
         "0.0",
         "2.0",
         "0.0",
         "0.0",
         "4.0",
         "0.0",
         "0.0",
         "0.0",
         "0.0",
         "0.0",
         "0.0",
         "0.0",
         "0.0",
         "0.0",
         "0.0",
         "0.0",
         "0.0",
         "0.0",
         "0.0",
         "0.0",
         "0.0",
         "0.0",
         "0.0",
         "0.0",
         "0.0",
         "0.0",
         "0.0",
         "0.0",
         "0.0",
         "0.0",
         "0.0",
         "0.0",
         "0.0",
         "0.0",
         "0.0",
         "24400.775685714285",
         "172.25",
         "0.0",
         "134.25",
         "34.0",
         "0.0",
         "0.0",
         "0.0",
         "0.0",
         "0.0",
         "343.75",
         "0.0",
         "7756.51",
         "5266.815",
         "4092.0875",
         "0.0",
         "293.07",
         "0.0",
         "13110.994776951673",
         "1154.0225",
         "0.0",
         "1492.33",
         "0.0",
         "0.0",
         "0.0",
         "192.58",
         "846.9300000000001",
         "0.0",
         "0.0",
         "0.0",
         "0.0",
         "0.0",
         "0.0",
         "0.0",
         "0.0",
         "0.0",
         "0.0",
         "0.0",
         "0.0",
         "0.0",
         "725.09",
         "0.0",
         "0.0",
         "0.0",
         "0.0",
         "0.0",
         "4646.278334788301",
         "0.0",
         "0.0",
         "0.0",
         "223.245",
         "305.74",
         "509.99",
         "0.0",
         "0.0",
         "71.66999999999999",
         "131.725",
         "1083.5475",
         "0.0",
         "0.0",
         "0.0",
         "586.845",
         "336.4375",
         "0.0",
         "281.8278378378379",
         "0.0",
         "0.0",
         "457.15500000000003",
         "0.0",
         "0.0",
         "0.0",
         "0.0",
         "0.0",
         "0.0",
         "0.0",
         "0.0",
         "0.0",
         "0.0",
         "0.0",
         "0.0",
         "0.0",
         "0.0",
         "0.0",
         "0.0",
         "0.0",
         "0.0",
         "0.0",
         "0.0",
         "0.0",
         "0.0",
         "0.0",
         "0.0",
         "0.0",
         "0.0",
         "0.0",
         "0.0",
         "0.0",
         "0.0",
         "24283.59772857143",
         "0.0",
         "19068.332800263554",
         "4487.432391304347",
         "0.0",
         "10200.805088607594",
         "66.0",
         "0.0",
         "0.0",
         "1.0",
         "0.0",
         "0.0",
         "0.0",
         "0.0",
         "0.0",
         "0.0",
         "0.0",
         "0.0",
         "0.0",
         "0.0",
         "0.0",
         "0.0",
         "0.0",
         "0.0",
         "0.0",
         "0.0",
         "0.0",
         "0.0",
         "0.0",
         "0.0",
         "0.0",
         "0.0",
         "0.0"
        ],
        [
         "max",
         "40062319.0",
         "561.0",
         "7240.0",
         "13579.5",
         "605.0",
         "34485.49635430732",
         "57.0",
         "154.0",
         "97.0",
         "18.0",
         "1016.0",
         "26.0",
         "25148.20800702133",
         "8934.288347285985",
         "4776.790094339623",
         "1865.7448542024013",
         "1843.9900142653355",
         "9.0",
         "32226.49635430732",
         "13770.27508650519",
         "4.0",
         "3654.09169550173",
         "89.85543278084714",
         "20.0",
         "2275.4897084048025",
         "414.0",
         "2072.0",
         "4.0",
         "1372.504132231405",
         "34.0",
         "0.0",
         "22.0",
         "372.0",
         "0.0",
         "0.0",
         "0.0",
         "4.0",
         "1727.9584905660377",
         "6.0",
         "9.0",
         "534.0",
         "127.0",
         "278.0",
         "0.0",
         "0.0",
         "72.99142587091548",
         "5026.743079584775",
         "16.0",
         "0.0",
         "118.74946921443735",
         "1085.9914258709157",
         "1912.991425870916",
         "734.2428471737613",
         "2.0",
         "413.0",
         "1062.1940085592012",
         "1247.918619379354",
         "16274.5595463138",
         "1.0",
         "4.0",
         "0.0",
         "7863.097101716818",
         "5354.331217931407",
         "4.0",
         "484.8812792276361",
         "44.0",
         "6.0",
         "4997.440311418685",
         "0.0",
         "205.79326923076923",
         "6.0",
         "478.38600701495295",
         "65.0",
         "9.0",
         "34.0",
         "0.0",
         "0.0",
         "2.0",
         "104.0",
         "0.0",
         "0.0",
         "0.0",
         "0.0",
         "0.0",
         "0.0",
         "0.0",
         "0.0",
         "0.0",
         "0.0",
         "0.0",
         "0.0",
         "0.0",
         "0.0",
         "0.0",
         "0.0",
         "0.0",
         "0.0",
         "0.0",
         "3415385.3240750744",
         "34485.49635430732",
         "112.3076169483223",
         "31464.51350256549",
         "6381.78892733564",
         "18.0",
         "5933.139999999999",
         "32905.64",
         "23955.9",
         "3191.7",
         "364263.17063432833",
         "17772.27",
         "2371964.4372387254",
         "973903.6954793412",
         "1007061.3361620926",
         "122214.93",
         "176216.3895363766",
         "1487.2",
         "2992681.452516878",
         "2015006.0087975776",
         "1071.92",
         "755512.0323529412",
         "26066.78",
         "2849.065504892006",
         "156376.56",
         "62113.54",
         "363638.38",
         "395.8",
         "92482.8051446281",
         "3572.0474093264247",
         "0.0",
         "1103.14",
         "91892.59",
         "0.0",
         "0.0",
         "0.0",
         "2968.23",
         "197950.2819407008",
         "602.98",
         "994.41",
         "67016.31",
         "21285.98990727532",
         "20997.76",
         "0.0",
         "0.0",
         "4470.925577909803",
         "982281.3561620926",
         "1459.2",
         "0.0",
         "5550.47",
         "113309.09937945944",
         "172033.5811558196",
         "173926.87621772505",
         "84.86",
         "96014.26024702653",
         "93886.33981455064",
         "126653.72034652348",
         "1314684.026031596",
         "221.14",
         "238.0",
         "0.0",
         "764831.0222964741",
         "501293.13623278425",
         "284.98",
         "139758.82850957912",
         "1341.72",
         "496.01",
         "560110.31",
         "0.0",
         "49964.58902644231",
         "297.03",
         "55121.58",
         "14119.05",
         "1487.2",
         "1088.81",
         "0.0",
         "0.0",
         "264.18",
         "3380.47",
         "0.0",
         "0.0",
         "0.0",
         "0.0",
         "0.0",
         "0.0",
         "0.0",
         "0.0",
         "0.0",
         "0.0",
         "0.0",
         "0.0",
         "0.0",
         "0.0",
         "0.0",
         "0.0",
         "0.0",
         "0.0",
         "0.0",
         "3415385.3240750744",
         "18102.53846436444",
         "2954113.6071401564",
         "791655.3277681661",
         "3633.06",
         "980173.2947171198",
         "5700.689444036248",
         "1.0",
         "1.0",
         "1.0",
         "1.0",
         "1.0",
         "1.0",
         "7.0",
         "1.0",
         "1.0",
         "1.0",
         "1.0",
         "1.0",
         "1.0",
         "1.0",
         "1.0",
         "1.0",
         "1.0",
         "0.0",
         "1.0",
         "1.0",
         "1.0",
         "0.0",
         "1.0",
         "1.0",
         "1.0",
         "0.0"
        ]
       ],
       "shape": {
        "columns": 229,
        "rows": 8
       }
      },
      "text/html": [
       "<div>\n",
       "<style scoped>\n",
       "    .dataframe tbody tr th:only-of-type {\n",
       "        vertical-align: middle;\n",
       "    }\n",
       "\n",
       "    .dataframe tbody tr th {\n",
       "        vertical-align: top;\n",
       "    }\n",
       "\n",
       "    .dataframe thead th {\n",
       "        text-align: right;\n",
       "    }\n",
       "</style>\n",
       "<table border=\"1\" class=\"dataframe\">\n",
       "  <thead>\n",
       "    <tr style=\"text-align: right;\">\n",
       "      <th></th>\n",
       "      <th>Customer_ID</th>\n",
       "      <th>recency</th>\n",
       "      <th>frequency</th>\n",
       "      <th>value</th>\n",
       "      <th>age</th>\n",
       "      <th>units</th>\n",
       "      <th>Units_BLT</th>\n",
       "      <th>Units_FRM</th>\n",
       "      <th>Units_IND</th>\n",
       "      <th>Units_MBT</th>\n",
       "      <th>...</th>\n",
       "      <th>INITTOENT</th>\n",
       "      <th>INTWMT</th>\n",
       "      <th>INTWT3</th>\n",
       "      <th>IPIRFSTRK</th>\n",
       "      <th>ISIGNPRO</th>\n",
       "      <th>ITADMILLNM</th>\n",
       "      <th>ITADSEPLUS</th>\n",
       "      <th>ITBCCORE</th>\n",
       "      <th>ITOYODRVN</th>\n",
       "      <th>OREXCEPT</th>\n",
       "    </tr>\n",
       "  </thead>\n",
       "  <tbody>\n",
       "    <tr>\n",
       "      <th>count</th>\n",
       "      <td>2.000000e+03</td>\n",
       "      <td>2000.000000</td>\n",
       "      <td>2000.000000</td>\n",
       "      <td>2000.000000</td>\n",
       "      <td>2000.000000</td>\n",
       "      <td>2000.000000</td>\n",
       "      <td>2000.000000</td>\n",
       "      <td>2000.000000</td>\n",
       "      <td>2000.000000</td>\n",
       "      <td>2000.000000</td>\n",
       "      <td>...</td>\n",
       "      <td>2000.000000</td>\n",
       "      <td>2000.0</td>\n",
       "      <td>2000.000000</td>\n",
       "      <td>2000.000000</td>\n",
       "      <td>2000.000000</td>\n",
       "      <td>2000.0</td>\n",
       "      <td>2000.000000</td>\n",
       "      <td>2000.000000</td>\n",
       "      <td>2000.000000</td>\n",
       "      <td>2000.0</td>\n",
       "    </tr>\n",
       "    <tr>\n",
       "      <th>mean</th>\n",
       "      <td>3.060826e+07</td>\n",
       "      <td>48.858000</td>\n",
       "      <td>87.221000</td>\n",
       "      <td>480.995590</td>\n",
       "      <td>287.642000</td>\n",
       "      <td>280.374474</td>\n",
       "      <td>0.393928</td>\n",
       "      <td>1.503271</td>\n",
       "      <td>0.775262</td>\n",
       "      <td>0.132505</td>\n",
       "      <td>...</td>\n",
       "      <td>0.007000</td>\n",
       "      <td>0.0</td>\n",
       "      <td>0.013000</td>\n",
       "      <td>0.001000</td>\n",
       "      <td>0.003000</td>\n",
       "      <td>0.0</td>\n",
       "      <td>0.010500</td>\n",
       "      <td>0.036500</td>\n",
       "      <td>0.000500</td>\n",
       "      <td>0.0</td>\n",
       "    </tr>\n",
       "    <tr>\n",
       "      <th>std</th>\n",
       "      <td>1.038077e+07</td>\n",
       "      <td>85.829244</td>\n",
       "      <td>278.567101</td>\n",
       "      <td>575.517781</td>\n",
       "      <td>170.286255</td>\n",
       "      <td>1119.791115</td>\n",
       "      <td>2.815687</td>\n",
       "      <td>8.566144</td>\n",
       "      <td>5.050475</td>\n",
       "      <td>0.974669</td>\n",
       "      <td>...</td>\n",
       "      <td>0.083394</td>\n",
       "      <td>0.0</td>\n",
       "      <td>0.113302</td>\n",
       "      <td>0.031615</td>\n",
       "      <td>0.054704</td>\n",
       "      <td>0.0</td>\n",
       "      <td>0.101956</td>\n",
       "      <td>0.187578</td>\n",
       "      <td>0.022361</td>\n",
       "      <td>0.0</td>\n",
       "    </tr>\n",
       "    <tr>\n",
       "      <th>min</th>\n",
       "      <td>1.000011e+07</td>\n",
       "      <td>1.000000</td>\n",
       "      <td>1.000000</td>\n",
       "      <td>21.960000</td>\n",
       "      <td>1.000000</td>\n",
       "      <td>0.038593</td>\n",
       "      <td>0.000000</td>\n",
       "      <td>0.000000</td>\n",
       "      <td>0.000000</td>\n",
       "      <td>0.000000</td>\n",
       "      <td>...</td>\n",
       "      <td>0.000000</td>\n",
       "      <td>0.0</td>\n",
       "      <td>0.000000</td>\n",
       "      <td>0.000000</td>\n",
       "      <td>0.000000</td>\n",
       "      <td>0.0</td>\n",
       "      <td>0.000000</td>\n",
       "      <td>0.000000</td>\n",
       "      <td>0.000000</td>\n",
       "      <td>0.0</td>\n",
       "    </tr>\n",
       "    <tr>\n",
       "      <th>25%</th>\n",
       "      <td>2.528443e+07</td>\n",
       "      <td>4.000000</td>\n",
       "      <td>4.750000</td>\n",
       "      <td>275.485630</td>\n",
       "      <td>147.000000</td>\n",
       "      <td>12.000000</td>\n",
       "      <td>0.000000</td>\n",
       "      <td>0.000000</td>\n",
       "      <td>0.000000</td>\n",
       "      <td>0.000000</td>\n",
       "      <td>...</td>\n",
       "      <td>0.000000</td>\n",
       "      <td>0.0</td>\n",
       "      <td>0.000000</td>\n",
       "      <td>0.000000</td>\n",
       "      <td>0.000000</td>\n",
       "      <td>0.0</td>\n",
       "      <td>0.000000</td>\n",
       "      <td>0.000000</td>\n",
       "      <td>0.000000</td>\n",
       "      <td>0.0</td>\n",
       "    </tr>\n",
       "    <tr>\n",
       "      <th>50%</th>\n",
       "      <td>3.407979e+07</td>\n",
       "      <td>12.000000</td>\n",
       "      <td>17.000000</td>\n",
       "      <td>384.518418</td>\n",
       "      <td>274.000000</td>\n",
       "      <td>48.749337</td>\n",
       "      <td>0.000000</td>\n",
       "      <td>0.000000</td>\n",
       "      <td>0.000000</td>\n",
       "      <td>0.000000</td>\n",
       "      <td>...</td>\n",
       "      <td>0.000000</td>\n",
       "      <td>0.0</td>\n",
       "      <td>0.000000</td>\n",
       "      <td>0.000000</td>\n",
       "      <td>0.000000</td>\n",
       "      <td>0.0</td>\n",
       "      <td>0.000000</td>\n",
       "      <td>0.000000</td>\n",
       "      <td>0.000000</td>\n",
       "      <td>0.0</td>\n",
       "    </tr>\n",
       "    <tr>\n",
       "      <th>75%</th>\n",
       "      <td>4.002172e+07</td>\n",
       "      <td>49.000000</td>\n",
       "      <td>60.000000</td>\n",
       "      <td>530.049583</td>\n",
       "      <td>430.000000</td>\n",
       "      <td>173.129705</td>\n",
       "      <td>0.000000</td>\n",
       "      <td>0.000000</td>\n",
       "      <td>0.000000</td>\n",
       "      <td>0.000000</td>\n",
       "      <td>...</td>\n",
       "      <td>0.000000</td>\n",
       "      <td>0.0</td>\n",
       "      <td>0.000000</td>\n",
       "      <td>0.000000</td>\n",
       "      <td>0.000000</td>\n",
       "      <td>0.0</td>\n",
       "      <td>0.000000</td>\n",
       "      <td>0.000000</td>\n",
       "      <td>0.000000</td>\n",
       "      <td>0.0</td>\n",
       "    </tr>\n",
       "    <tr>\n",
       "      <th>max</th>\n",
       "      <td>4.006232e+07</td>\n",
       "      <td>561.000000</td>\n",
       "      <td>7240.000000</td>\n",
       "      <td>13579.500000</td>\n",
       "      <td>605.000000</td>\n",
       "      <td>34485.496354</td>\n",
       "      <td>57.000000</td>\n",
       "      <td>154.000000</td>\n",
       "      <td>97.000000</td>\n",
       "      <td>18.000000</td>\n",
       "      <td>...</td>\n",
       "      <td>1.000000</td>\n",
       "      <td>0.0</td>\n",
       "      <td>1.000000</td>\n",
       "      <td>1.000000</td>\n",
       "      <td>1.000000</td>\n",
       "      <td>0.0</td>\n",
       "      <td>1.000000</td>\n",
       "      <td>1.000000</td>\n",
       "      <td>1.000000</td>\n",
       "      <td>0.0</td>\n",
       "    </tr>\n",
       "  </tbody>\n",
       "</table>\n",
       "<p>8 rows × 229 columns</p>\n",
       "</div>"
      ],
      "text/plain": [
       "        Customer_ID      recency    frequency         value          age  \\\n",
       "count  2.000000e+03  2000.000000  2000.000000   2000.000000  2000.000000   \n",
       "mean   3.060826e+07    48.858000    87.221000    480.995590   287.642000   \n",
       "std    1.038077e+07    85.829244   278.567101    575.517781   170.286255   \n",
       "min    1.000011e+07     1.000000     1.000000     21.960000     1.000000   \n",
       "25%    2.528443e+07     4.000000     4.750000    275.485630   147.000000   \n",
       "50%    3.407979e+07    12.000000    17.000000    384.518418   274.000000   \n",
       "75%    4.002172e+07    49.000000    60.000000    530.049583   430.000000   \n",
       "max    4.006232e+07   561.000000  7240.000000  13579.500000   605.000000   \n",
       "\n",
       "              units    Units_BLT    Units_FRM    Units_IND    Units_MBT  ...  \\\n",
       "count   2000.000000  2000.000000  2000.000000  2000.000000  2000.000000  ...   \n",
       "mean     280.374474     0.393928     1.503271     0.775262     0.132505  ...   \n",
       "std     1119.791115     2.815687     8.566144     5.050475     0.974669  ...   \n",
       "min        0.038593     0.000000     0.000000     0.000000     0.000000  ...   \n",
       "25%       12.000000     0.000000     0.000000     0.000000     0.000000  ...   \n",
       "50%       48.749337     0.000000     0.000000     0.000000     0.000000  ...   \n",
       "75%      173.129705     0.000000     0.000000     0.000000     0.000000  ...   \n",
       "max    34485.496354    57.000000   154.000000    97.000000    18.000000  ...   \n",
       "\n",
       "         INITTOENT  INTWMT       INTWT3    IPIRFSTRK     ISIGNPRO  ITADMILLNM  \\\n",
       "count  2000.000000  2000.0  2000.000000  2000.000000  2000.000000      2000.0   \n",
       "mean      0.007000     0.0     0.013000     0.001000     0.003000         0.0   \n",
       "std       0.083394     0.0     0.113302     0.031615     0.054704         0.0   \n",
       "min       0.000000     0.0     0.000000     0.000000     0.000000         0.0   \n",
       "25%       0.000000     0.0     0.000000     0.000000     0.000000         0.0   \n",
       "50%       0.000000     0.0     0.000000     0.000000     0.000000         0.0   \n",
       "75%       0.000000     0.0     0.000000     0.000000     0.000000         0.0   \n",
       "max       1.000000     0.0     1.000000     1.000000     1.000000         0.0   \n",
       "\n",
       "        ITADSEPLUS     ITBCCORE    ITOYODRVN  OREXCEPT  \n",
       "count  2000.000000  2000.000000  2000.000000    2000.0  \n",
       "mean      0.010500     0.036500     0.000500       0.0  \n",
       "std       0.101956     0.187578     0.022361       0.0  \n",
       "min       0.000000     0.000000     0.000000       0.0  \n",
       "25%       0.000000     0.000000     0.000000       0.0  \n",
       "50%       0.000000     0.000000     0.000000       0.0  \n",
       "75%       0.000000     0.000000     0.000000       0.0  \n",
       "max       1.000000     1.000000     1.000000       0.0  \n",
       "\n",
       "[8 rows x 229 columns]"
      ]
     },
     "execution_count": 16,
     "metadata": {},
     "output_type": "execute_result"
    }
   ],
   "source": [
    "data.describe()"
   ]
  },
  {
   "cell_type": "code",
   "execution_count": 17,
   "id": "80611fac",
   "metadata": {},
   "outputs": [
    {
     "name": "stdout",
     "output_type": "stream",
     "text": [
      "      Customer_ID  recency  frequency        value    age        units  \\\n",
      "0        10083892     85.0        8.0   171.661250  316.0    14.000000   \n",
      "1        40018099      2.0      469.0   441.328591  240.0  1516.476421   \n",
      "2        33491280      4.0       18.0   826.507222  179.0    74.000000   \n",
      "3        35878660      6.0      179.0   424.440056  391.0   419.000000   \n",
      "4        34542857      1.0      223.0  1670.450451  575.0   729.750000   \n",
      "...           ...      ...        ...          ...    ...          ...   \n",
      "1995     34078678      7.0       37.0   247.412703  210.0    83.000000   \n",
      "1996     40034609     10.0       24.0   438.747917   87.0    63.514563   \n",
      "1997     40042684     26.0       45.0   684.805955  257.0   157.192661   \n",
      "1998     40047272     11.0       23.0   426.842174  452.0    70.000000   \n",
      "1999     33549389     22.0       29.0   664.741379  575.0    93.000000   \n",
      "\n",
      "      Units_BLT  Units_FRM  Units_IND  Units_MBT  ...  INITTOENT  INTWMT  \\\n",
      "0           0.0        0.0        0.0        0.0  ...          0       0   \n",
      "1          46.0       22.0        8.0        5.0  ...          0       0   \n",
      "2           0.0        4.0        1.0        0.0  ...          0       0   \n",
      "3           6.0       39.0        4.0        2.0  ...          1       0   \n",
      "4           0.0        0.0        0.0        0.0  ...          0       0   \n",
      "...         ...        ...        ...        ...  ...        ...     ...   \n",
      "1995        0.0        0.0        0.0        0.0  ...          0       0   \n",
      "1996        0.0        0.0        0.0        0.0  ...          0       0   \n",
      "1997        0.0        0.0        0.0        0.0  ...          0       0   \n",
      "1998        0.0        0.0        0.0        0.0  ...          0       0   \n",
      "1999        0.0        0.0        0.0        0.0  ...          0       0   \n",
      "\n",
      "      INTWT3  IPIRFSTRK  ISIGNPRO  ITADMILLNM  ITADSEPLUS  ITBCCORE  \\\n",
      "0          0          0         0           0           0         0   \n",
      "1          0          0         0           0           0         0   \n",
      "2          0          0         0           0           0         0   \n",
      "3          0          0         0           0           0         1   \n",
      "4          0          0         0           0           1         0   \n",
      "...      ...        ...       ...         ...         ...       ...   \n",
      "1995       0          0         0           0           0         0   \n",
      "1996       0          0         0           0           0         0   \n",
      "1997       0          0         0           0           0         0   \n",
      "1998       0          0         0           0           0         0   \n",
      "1999       0          0         0           0           0         0   \n",
      "\n",
      "      ITOYODRVN  OREXCEPT  \n",
      "0             0         0  \n",
      "1             0         0  \n",
      "2             0         0  \n",
      "3             0         0  \n",
      "4             0         0  \n",
      "...         ...       ...  \n",
      "1995          0         0  \n",
      "1996          0         0  \n",
      "1997          0         0  \n",
      "1998          0         0  \n",
      "1999          0         0  \n",
      "\n",
      "[2000 rows x 228 columns]\n",
      "0       1.0\n",
      "1       0.0\n",
      "2       0.0\n",
      "3       0.0\n",
      "4       0.0\n",
      "       ... \n",
      "1995    0.0\n",
      "1996    0.0\n",
      "1997    0.0\n",
      "1998    0.0\n",
      "1999    0.0\n",
      "Name: churn, Length: 2000, dtype: float64\n"
     ]
    },
    {
     "data": {
      "text/plain": [
       "(np.int64(1638), np.int64(362))"
      ]
     },
     "execution_count": 17,
     "metadata": {},
     "output_type": "execute_result"
    }
   ],
   "source": [
    "x = data.drop('churn', axis=1)\n",
    "y = data['churn']\n",
    "print(x)\n",
    "print(y)\n",
    "(y==0).sum(), (y==1).sum()"
   ]
  },
  {
   "cell_type": "code",
   "execution_count": 18,
   "id": "78cd95c1",
   "metadata": {},
   "outputs": [
    {
     "name": "stderr",
     "output_type": "stream",
     "text": [
      "d:\\AI COE Trainings\\.venv\\Lib\\site-packages\\sklearn\\feature_selection\\_univariate_selection.py:110: UserWarning: Features [ 30  33  34  35  43  44  48  60  68  75  76  79  80  81  82  83  84  85\n",
      "  86  87  88  89  90  91  92  93  94  95  96  97 128 131 132 133 141 142\n",
      " 146 158 166 173 174 177 178 179 180 181 182 183 184 185 186 187 188 189\n",
      " 190 191 192 193 194 195 219 223 227] are constant.\n",
      "  warnings.warn(\"Features %s are constant.\" % constant_features_idx, UserWarning)\n",
      "d:\\AI COE Trainings\\.venv\\Lib\\site-packages\\sklearn\\feature_selection\\_univariate_selection.py:111: RuntimeWarning: invalid value encountered in divide\n",
      "  f = msb / msw\n"
     ]
    },
    {
     "data": {
      "image/png": "[encoded data removed]",
      "text/plain": [
       "<Figure size 1500x800 with 1 Axes>"
      ]
     },
     "metadata": {},
     "output_type": "display_data"
    },
    {
     "name": "stdout",
     "output_type": "stream",
     "text": [
      "\n",
      "Top 30 features by F-score:\n",
      "                    feature     f_score        p_value\n",
      "1                   recency  750.373404  1.552880e-140\n",
      "202                   Units   57.808962   4.415625e-14\n",
      "201            Sales_Amount   55.309066   1.520255e-13\n",
      "205              Channel_NR   36.025645   2.306620e-09\n",
      "40            Units_HANKOOK   32.934341   1.099040e-08\n",
      "138    Sales_Amount_HANKOOK   32.237401   1.564028e-08\n",
      "2                 frequency   32.180842   1.609481e-08\n",
      "207               IsProgram   29.450052   6.434889e-08\n",
      "98                    sales   27.221899   2.001808e-07\n",
      "196  Sales_Amount_is_win_NO   27.132927   2.094787e-07\n",
      "111       Sales_Amount_PSUV   25.946211   3.840745e-07\n",
      "198    Sales_Amount_is_ev_-   25.459330   4.927060e-07\n",
      "199   Sales_Amount_is_ev_NO   23.605335   1.274641e-06\n",
      "102          Units_is_ev_NO   21.894623   3.073553e-06\n",
      "144   Sales_Amount_MICHELIN   21.873553   3.107115e-06\n",
      "46           Units_MICHELIN   21.702248   3.394017e-06\n",
      "5                     units   20.875692   5.199936e-06\n",
      "208           NumOfPrograms   20.854534   5.257092e-06\n",
      "99          Units_is_win_NO   20.764657   5.507003e-06\n",
      "13               Units_PSUV   20.104478   7.748261e-06\n",
      "\n",
      "Top 20 features by lowest p-value:\n",
      "['recency', 'Units', 'Sales_Amount', 'Channel_NR', 'Units_HANKOOK', 'Sales_Amount_HANKOOK', 'frequency', 'IsProgram', 'sales', 'Sales_Amount_is_win_NO', 'Sales_Amount_PSUV', 'Sales_Amount_is_ev_-', 'Sales_Amount_is_ev_NO', 'Units_is_ev_NO', 'Sales_Amount_MICHELIN', 'Units_MICHELIN', 'units', 'NumOfPrograms', 'Units_is_win_NO', 'Units_PSUV']\n"
     ]
    }
   ],
   "source": [
    "initial_selector = SelectKBest(score_func=f_classif, k='all')\n",
    "initial_selector.fit(x, y)\n",
    "initial_importance = pd.DataFrame({\n",
    "    'feature': x.columns,\n",
    "    'f_score': initial_selector.scores_,\n",
    "    'p_value': initial_selector.pvalues_\n",
    "})\n",
    "\n",
    "\n",
    "initial_importance_sorted = initial_importance.sort_values('f_score', ascending=False)\n",
    "\n",
    "plt.figure(figsize=(15, 8))\n",
    "sns.barplot(x='f_score', y='feature', data=initial_importance_sorted.head(30))\n",
    "plt.title('Feature Importance Scores (Top 30 Features)')\n",
    "plt.xlabel('F-score')\n",
    "plt.tight_layout()\n",
    "plt.show()\n",
    "\n",
    "print(\"\\nTop 30 features by F-score:\")\n",
    "print(initial_importance_sorted.head(20))\n",
    "\n",
    "top_20_by_pvalue = initial_importance.sort_values('p_value').head(20)['feature'].tolist()\n",
    "print(\"\\nTop 20 features by lowest p-value:\")\n",
    "print(top_20_by_pvalue)\n"
   ]
  },
  {
   "cell_type": "code",
   "execution_count": 19,
   "id": "ff86a297",
   "metadata": {},
   "outputs": [
    {
     "name": "stdout",
     "output_type": "stream",
     "text": [
      "Shape of selected features dataframe: (2000, 20)\n",
      "\n",
      "Selected features:\n",
      "recency\n",
      "Units\n",
      "Sales_Amount\n",
      "Channel_NR\n",
      "Units_HANKOOK\n",
      "Sales_Amount_HANKOOK\n",
      "frequency\n",
      "IsProgram\n",
      "sales\n",
      "Sales_Amount_is_win_NO\n",
      "Sales_Amount_PSUV\n",
      "Sales_Amount_is_ev_-\n",
      "Sales_Amount_is_ev_NO\n",
      "Units_is_ev_NO\n",
      "Sales_Amount_MICHELIN\n",
      "Units_MICHELIN\n",
      "units\n",
      "NumOfPrograms\n",
      "Units_is_win_NO\n",
      "Units_PSUV\n"
     ]
    }
   ],
   "source": [
    "selected_features = top_20_by_pvalue\n",
    "X_selected = data[selected_features]\n",
    "print(\"Shape of selected features dataframe:\", X_selected.shape)\n",
    "print(\"\\nSelected features:\")\n",
    "for feature in selected_features:\n",
    "    print(feature)"
   ]
  },
  {
   "cell_type": "code",
   "execution_count": 20,
   "id": "85909bab",
   "metadata": {},
   "outputs": [
    {
     "name": "stdout",
     "output_type": "stream",
     "text": [
      "Shape of scaled features: (2000, 20)\n",
      "\n",
      "First few rows of scaled data:\n",
      "    recency     Units  Sales_Amount  Channel_NR  Units_HANKOOK  \\\n",
      "0  0.421197 -0.356705     -0.349119   -0.458172      -0.243919   \n",
      "1 -0.546081  0.565343      0.509025    2.182588       0.758865   \n",
      "2 -0.522773 -0.304281     -0.262853   -0.458172       0.224047   \n",
      "3 -0.499465  0.032727      0.159859   -0.458172      -0.243919   \n",
      "4 -0.557735 -0.053398      0.566200   -0.458172      -0.310771   \n",
      "\n",
      "   Sales_Amount_HANKOOK  frequency  IsProgram     sales  \\\n",
      "0             -0.268419  -0.284459  -0.305767 -0.276407   \n",
      "1              0.576717   1.370853  -0.305767  1.095056   \n",
      "2              0.363382  -0.248552  -0.305767 -0.186333   \n",
      "3             -0.217213   0.329551   3.270460  0.221202   \n",
      "4             -0.306795   0.487541   3.270460  2.199160   \n",
      "\n",
      "   Sales_Amount_is_win_NO  Sales_Amount_PSUV  Sales_Amount_is_ev_-  \\\n",
      "0               -0.275963          -0.272662             -0.270815   \n",
      "1                1.096294           1.251485              1.371588   \n",
      "2               -0.185760          -0.241512             -0.157738   \n",
      "3                0.222361           0.149920              0.314320   \n",
      "4                2.203165          -0.195840              2.342569   \n",
      "\n",
      "   Sales_Amount_is_ev_NO  Units_is_ev_NO  Sales_Amount_MICHELIN  \\\n",
      "0              -0.246291       -0.245283              -0.251640   \n",
      "1              -0.024492       -0.022466              -0.136761   \n",
      "2              -0.249193       -0.245283              -0.212821   \n",
      "3              -0.129661       -0.134364              -0.182705   \n",
      "4               1.332216        0.237421               4.475613   \n",
      "\n",
      "   Units_MICHELIN     units  NumOfPrograms  Units_is_win_NO  Units_PSUV  \n",
      "0       -0.246192 -0.237938      -0.241043        -0.237305   -0.239515  \n",
      "1       -0.112115  1.104144      -0.241043         1.102629    1.223270  \n",
      "2       -0.215720 -0.184343      -0.241043        -0.183653   -0.210277  \n",
      "3       -0.179153  0.123827       3.356615         0.124845    0.191749  \n",
      "4        1.537955  0.401403       1.557786         0.402717   -0.181039  \n"
     ]
    }
   ],
   "source": [
    "scaler = StandardScaler()\n",
    "X_selected_scaled = scaler.fit_transform(X_selected)\n",
    "\n",
    "X_selected_scaled = pd.DataFrame(X_selected_scaled, columns=selected_features)\n",
    "\n",
    "print(\"Shape of scaled features:\", X_selected_scaled.shape)\n",
    "print(\"\\nFirst few rows of scaled data:\")\n",
    "print(X_selected_scaled.head())"
   ]
  },
  {
   "cell_type": "code",
   "execution_count": 21,
   "id": "66ee3f95",
   "metadata": {},
   "outputs": [],
   "source": [
    "X_train, X_test, y_train, y_test = train_test_split(X_selected_scaled, y, test_size=0.2, random_state=42)\n",
    "model = LogisticRegression(random_state=42, max_iter=1000)\n",
    "model.fit(X_train, y_train)\n",
    "y_pred = model.predict(X_test)"
   ]
  },
  {
   "cell_type": "code",
   "execution_count": 22,
   "id": "da0507data",
   "metadata": {},
   "outputs": [
    {
     "name": "stdout",
     "output_type": "stream",
     "text": [
      "Model Performance Metrics:\n",
      "Accuracy: 0.835\n",
      "Precision: 0.784\n",
      "Recall: 0.333\n",
      "R^2 (score): 0.031\n",
      "Mean Squared Error: 0.165\n",
      "\n",
      "Confusion Matrix:\n",
      "[[305   8]\n",
      " [ 58  29]]\n"
     ]
    }
   ],
   "source": [
    "accuracy = accuracy_score(y_test, y_pred)\n",
    "precision = precision_score(y_test, y_pred)\n",
    "recall = recall_score(y_test, y_pred)\n",
    "conf_matrix = confusion_matrix(y_test, y_pred)\n",
    "r2 = r2_score(y_test, y_pred)\n",
    "mse = mean_squared_error(y_test, y_pred)\n",
    "print(\"Model Performance Metrics:\")\n",
    "print(f\"Accuracy: {accuracy:.3f}\")\n",
    "print(f\"Precision: {precision:.3f}\")\n",
    "print(f\"Recall: {recall:.3f}\")\n",
    "print(f\"R^2 (score): {r2:.3f}\")\n",
    "print(f\"Mean Squared Error: {mse:.3f}\")\n",
    "print(\"\\nConfusion Matrix:\")\n",
    "print(conf_matrix)"
   ]
  },
  {
   "cell_type": "code",
   "execution_count": null,
   "id": "ec8c46ec",
   "metadata": {},
   "outputs": [],
   "source": []
  }
 ],
 "metadata": {
  "kernelspec": {
   "display_name": ".venv (3.14.0)",
   "language": "python",
   "name": "python3"
  },
  "language_info": {
   "codemirror_mode": {
    "name": "ipython",
    "version": 3
   },
   "file_extension": ".py",
   "mimetype": "text/x-python",
   "name": "python",
   "nbconvert_exporter": "python",
   "pygments_lexer": "ipython3",
   "version": "3.14.0"
  }
 },
 "nbformat": 4,
 "nbformat_minor": 5
}
