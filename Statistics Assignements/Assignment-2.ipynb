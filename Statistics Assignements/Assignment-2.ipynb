{
 "cells": [
  {
   "cell_type": "code",
   "execution_count": 2,
   "id": "a3d41b25",
   "metadata": {},
   "outputs": [],
   "source": [
    "import pandas as pd\n",
    "import numpy as np\n",
    "from scipy import stats\n",
    "import matplotlib.pyplot as plt\n",
    "from scipy.stats import norm"
   ]
  },
  {
   "cell_type": "markdown",
   "id": "694f3767",
   "metadata": {},
   "source": [
    "#### Z-test"
   ]
  },
  {
   "cell_type": "code",
   "execution_count": 3,
   "id": "4604cb98",
   "metadata": {},
   "outputs": [
    {
     "name": "stdout",
     "output_type": "stream",
     "text": [
      "Z-score is 0.4402477799437832\n",
      "P-value is 0.659757657583679\n"
     ]
    }
   ],
   "source": [
    "ztest_dist = np.random.normal(50,10,10)\n",
    "sample_mean = np.mean(ztest_dist)\n",
    "n = len(ztest_dist)\n",
    "zscore = (sample_mean-50)/(10/np.sqrt(n))\n",
    "print(\"Z-score is\", zscore)\n",
    "p_value = norm.sf(abs(zscore))*2\n",
    "print(\"P-value is\", p_value)"
   ]
  },
  {
   "cell_type": "markdown",
   "id": "203608f1",
   "metadata": {},
   "source": [
    "### Anova"
   ]
  },
  {
   "cell_type": "code",
   "execution_count": null,
   "id": "038dbd5c",
   "metadata": {},
   "outputs": [],
   "source": [
    "data1 = np.random.randint(1,100,10)\n",
    "data2 = np.random.randint(1,100,10)\n",
    "data3 = np.random.randint(1,100,10)\n",
    "combined_data = np.concatenate([data1, data2, data3])\n",
    "mean_combines_data = np.mean(combined_data)"
   ]
  },
  {
   "cell_type": "code",
   "execution_count": 6,
   "id": "2f467f61",
   "metadata": {},
   "outputs": [
    {
     "name": "stdout",
     "output_type": "stream",
     "text": [
      "F-statistic is 0.1828781571053524\n"
     ]
    }
   ],
   "source": [
    "ssb = sum(len(data)*((np.mean(data)-mean_combines_data)**2) for data in [data1, data2, data3])\n",
    "ssw = sum(sum((x - np.mean(data))**2 for x in data) for data in [data1, data2, data3])\n",
    "dsb = 3-1\n",
    "dsw = len(combined_data)-3\n",
    "msb = ssb/dsb\n",
    "msw = ssw/dsw\n",
    "f_statistic = msb/msw\n",
    "print(\"F-statistic is\", f_statistic)"
   ]
  },
  {
   "cell_type": "code",
   "execution_count": null,
   "id": "8b06b261",
   "metadata": {},
   "outputs": [
    {
     "name": "stdout",
     "output_type": "stream",
     "text": [
      "F-statistic is 0.18287815710535232\n",
      "P-value is 0.8338926941433072\n"
     ]
    }
   ],
   "source": [
    "# f_stats, p_value = stats.f_oneway(data1, data2, data3)\n",
    "# print(\"F-statistic is\", f_stats)\n",
    "# print(\"P-value is\", p_value)"
   ]
  },
  {
   "cell_type": "markdown",
   "id": "b8ef5150",
   "metadata": {},
   "source": [
    "### Chi square test"
   ]
  },
  {
   "cell_type": "code",
   "execution_count": 8,
   "id": "e298de37",
   "metadata": {},
   "outputs": [
    {
     "name": "stdout",
     "output_type": "stream",
     "text": [
      "Chi-square statistic is 16.666666666666668\n",
      "P-value is 4.455709060402491e-05\n",
      "Degrees of freedom is 1\n"
     ]
    }
   ],
   "source": [
    "observed = np.array([[40,10], [20,30]])\n",
    "row_totals = observed.sum(axis=1)\n",
    "col_totals = observed.sum(axis=0)\n",
    "total = observed.sum()\n",
    "expected = np.outer(row_totals, col_totals) / total\n",
    "chi2_statistic = ((observed - expected) ** 2 / expected).sum()\n",
    "print(\"Chi-square statistic is\", chi2_statistic)\n",
    "deg_of_freedom = (observed.shape[0] - 1) * (observed.shape[1] - 1)\n",
    "p_value = 1 - stats.chi2.cdata(chi2_statistic, deg_of_freedom)\n",
    "print(\"P-value is\", p_value)\n",
    "print(\"Degrees of freedom is\", deg_of_freedom)"
   ]
  },
  {
   "cell_type": "markdown",
   "id": "dbc019a8",
   "metadata": {},
   "source": [
    "### Covariance"
   ]
  },
  {
   "cell_type": "code",
   "execution_count": 9,
   "id": "3b622e0f",
   "metadata": {},
   "outputs": [
    {
     "name": "stdout",
     "output_type": "stream",
     "text": [
      "Covariance is 250.0\n"
     ]
    }
   ],
   "source": [
    "x = np.array([10,20,30,40,50])\n",
    "y = np.array([15,25,35,45,55])\n",
    "mean_of_x = np.mean(x)\n",
    "mean_of_y = np.mean(y)\n",
    "covariance = np.sum((x - mean_of_x) * (y - mean_of_y)) / (len(x) - 1)\n",
    "print(\"Covariance is\", covariance)"
   ]
  },
  {
   "cell_type": "markdown",
   "id": "e8e74ddb",
   "metadata": {},
   "source": [
    "### Correlation"
   ]
  },
  {
   "cell_type": "code",
   "execution_count": 11,
   "id": "a10888d1",
   "metadata": {},
   "outputs": [
    {
     "name": "stdout",
     "output_type": "stream",
     "text": [
      "Correlation is 1.2499999999999998\n"
     ]
    }
   ],
   "source": [
    "std_x = np.std(x)\n",
    "std_y = np.std(y)\n",
    "correlation = covariance / (std_x * std_y)\n",
    "print(\"Correlation is\", correlation)"
   ]
  }
 ],
 "metadata": {
  "kernelspec": {
   "display_name": "statistics_venv",
   "language": "python",
   "name": "python3"
  },
  "language_info": {
   "codemirror_mode": {
    "name": "ipython",
    "version": 3
   },
   "file_extension": ".py",
   "mimetype": "text/x-python",
   "name": "python",
   "nbconvert_exporter": "python",
   "pygments_lexer": "ipython3",
   "version": "3.13.7"
  }
 },
 "nbformat": 4,
 "nbformat_minor": 5
}
