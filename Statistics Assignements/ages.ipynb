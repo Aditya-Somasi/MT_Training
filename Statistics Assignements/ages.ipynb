{
 "cells": [
  {
   "cell_type": "code",
   "execution_count": 49,
   "id": "91880ba8",
   "metadata": {},
   "outputs": [],
   "source": [
    "import numpy as np\n",
    "\n",
    "ages = np.random.randint(10, 81, 100) \n",
    "weights = np.random.randint(20, 151, 100)"
   ]
  },
  {
   "cell_type": "code",
   "execution_count": 32,
   "id": "ebabf119",
   "metadata": {},
   "outputs": [
    {
     "name": "stdout",
     "output_type": "stream",
     "text": [
      "45.81\n",
      "75.1\n"
     ]
    }
   ],
   "source": [
    "mean_ages = print(np.mean(ages))\n",
    "mean_weight = print(np.mean(weights))"
   ]
  },
  {
   "cell_type": "code",
   "execution_count": 33,
   "id": "882ae5c5",
   "metadata": {},
   "outputs": [],
   "source": [
    "# standard_deviation = np.std(ages)\n",
    "# print(\"Standard Deviation of ages is\", standard_deviation)  \n",
    "# standard_deviation_weight = np.std(weights)\n",
    "# print(\"Standard Deviation of weights is\", standard_deviation_weight)\n",
    "# covariance = np.cov(ages, weights)\n",
    "# print(\"Covariance matrix is\\n\", covariance)\n",
    "# covariance_ages = covariance[0][0]\n",
    "# covariance_weight = covariance[1][1]\n",
    "# # print(\"Covariance of ages is\", covariance_ages)\n",
    "# # print(\"Covariance of weights is\", covariance_weight)\n",
    "# print(\"Covariance between ages and weights is\", covariance[0][1])"
   ]
  },
  {
   "cell_type": "code",
   "execution_count": 34,
   "id": "2c47bea0",
   "metadata": {},
   "outputs": [
    {
     "name": "stdout",
     "output_type": "stream",
     "text": [
      "Standard Deviation of ages is 18.91491210658934\n",
      "Standard Deviation of weights is 34.7593152982046\n"
     ]
    }
   ],
   "source": [
    "std_age = np.std(ages)\n",
    "std_weight = np.std(weights)\n",
    "print(\"Standard Deviation of ages is\", std_age) \n",
    "print(\"Standard Deviation of weights is\", std_weight)\n"
   ]
  },
  {
   "cell_type": "code",
   "execution_count": 44,
   "id": "210e1cbf",
   "metadata": {},
   "outputs": [
    {
     "name": "stdout",
     "output_type": "stream",
     "text": [
      "Covariance of ages is 361.3877777777777\n",
      "Covariance of weights is 1220.4141414141416\n",
      "Covariance matrix is\n",
      " [[ 361.38777778   27.41313131]\n",
      " [  27.41313131 1220.41414141]]\n",
      "Variance of age is: 357.77389999999997\n",
      "14.917352798979149\n",
      "Variance of age is: 357.77389999999997\n",
      "Variance of weight is: 1208.21\n"
     ]
    }
   ],
   "source": [
    "covariance = np.cov(ages, weights)\n",
    "covariance_ages = covariance[0][0]\n",
    "covariance_weight = covariance[1][1]    \n",
    "print(\"Covariance of ages is\", covariance_ages)\n",
    "print(\"Covariance of weights is\", covariance_weight)\n",
    "print(\"Covariance matrix is\\n\", covariance)\n",
    "print(\"Variance of age is:\", np.var(ages))\n",
    "print((covariance[0][1]/std_weight*std_age))\n",
    "variance_age = np.var(ages)\n",
    "print(\"Variance of age is:\", variance_age)\n",
    "print(\"Variance of weight is:\", np.var(weights))"
   ]
  },
  {
   "cell_type": "code",
   "execution_count": 47,
   "id": "1bf3d5ce",
   "metadata": {},
   "outputs": [],
   "source": [
    "## Ztest, ttest, ANOVA, Chi-square on data set"
   ]
  },
  {
   "cell_type": "code",
   "execution_count": null,
   "id": "a6c4254b",
   "metadata": {},
   "outputs": [],
   "source": []
  }
 ],
 "metadata": {
  "kernelspec": {
   "display_name": "statistics_venv",
   "language": "python",
   "name": "python3"
  },
  "language_info": {
   "codemirror_mode": {
    "name": "ipython",
    "version": 3
   },
   "file_extension": ".py",
   "mimetype": "text/x-python",
   "name": "python",
   "nbconvert_exporter": "python",
   "pygments_lexer": "ipython3",
   "version": "3.13.7"
  }
 },
 "nbformat": 4,
 "nbformat_minor": 5
}
