{
 "cells": [
  {
   "cell_type": "code",
   "execution_count": null,
   "id": "5139dc92",
   "metadata": {},
   "outputs": [],
   "source": [
    "### Standard Deviation Method to Remove Outliers\n",
    "# import numpy as np\n",
    "# ages = np.random.normal(20, 5, 1000)\n",
    "# mean = np.mean(ages)\n",
    "# std = np.std(ages)\n",
    "# lower_limit = mean - 3 * std\n",
    "# upper_limit = mean + 3 * std\n",
    "# print(f\"Lower limit: {lower_limit}, Upper limit: {upper_limit}\")\n",
    "# filtered_ages = [age for age in ages if lower_limit <= age <= upper_limit]\n",
    "# print(f\"Original count: {len(ages)}\")\n",
    "# print(f\"Filtered count: {len(filtered_ages)}\")\n",
    "# print(f\"Removed outliers: {len(ages) - len(filtered_ages)}\")\n",
    "# print(f\"Mean before removing outliers: {mean:.2f}\")\n",
    "# print(f\"Mean after removing outliers: {np.mean(filtered_ages):.2f}\")\n"
   ]
  },
  {
   "cell_type": "code",
   "execution_count": 3,
   "id": "964538e5",
   "metadata": {},
   "outputs": [],
   "source": [
    "# import matplotlib.pyplot as plt\n",
    "\n",
    "# plt.figure(figsize=(10, 5))\n",
    "# plt.subplot(1, 2, 1)\n",
    "# plt.hist(ages, bins=30)\n",
    "# plt.title(\"Before removing outliers\")\n",
    "\n",
    "# plt.subplot(1, 2, 2)\n",
    "# plt.hist(filtered_ages, bins=30)\n",
    "# plt.title(\"After removing outliers\")\n",
    "\n",
    "# plt.show()\n"
   ]
  },
  {
   "cell_type": "code",
   "execution_count": 12,
   "id": "af847e6d",
   "metadata": {},
   "outputs": [
    {
     "name": "stdout",
     "output_type": "stream",
     "text": [
      "Original count: 1000\n",
      "Filtered count: 999\n",
      "Removed outliers: 1\n",
      "Mean before removing outliers: 19.579761365064815\n",
      "Mean after removing outliers: 19.595605780038024\n"
     ]
    }
   ],
   "source": [
    "### Standardisation Method to Remove Outliers\n",
    "import numpy as np\n",
    "ages = np.random.normal(20, 5, 1000)\n",
    "mean = np.mean(ages)\n",
    "std = np.std(ages)\n",
    "standardization = (ages - mean) / std\n",
    "filtered_ages = ages[np.abs(standardization) < 3]\n",
    "filtered_standardized = (filtered_ages - np.mean(filtered_ages)) / np.std(filtered_ages)\n",
    "print(\"Original count:\", len(ages))\n",
    "print(\"Filtered count:\", len(filtered_ages))\n",
    "print(\"Removed outliers:\", len(ages) - len(filtered_ages))\n",
    "print(\"Mean before removing outliers:\", mean)\n",
    "print(\"Mean after removing outliers:\", np.mean(filtered_ages))"
   ]
  },
  {
   "cell_type": "code",
   "execution_count": null,
   "id": "c69beadb",
   "metadata": {},
   "outputs": [],
   "source": []
  }
 ],
 "metadata": {
  "kernelspec": {
   "display_name": "statistics_venv",
   "language": "python",
   "name": "python3"
  },
  "language_info": {
   "codemirror_mode": {
    "name": "ipython",
    "version": 3
   },
   "file_extension": ".py",
   "mimetype": "text/x-python",
   "name": "python",
   "nbconvert_exporter": "python",
   "pygments_lexer": "ipython3",
   "version": "3.13.7"
  }
 },
 "nbformat": 4,
 "nbformat_minor": 5
}
